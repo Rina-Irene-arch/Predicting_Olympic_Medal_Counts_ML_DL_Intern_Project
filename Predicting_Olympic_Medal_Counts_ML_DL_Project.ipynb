{
 "cells": [
  {
   "cell_type": "markdown",
   "metadata": {},
   "source": [
    "# ML-DL Project | Predicting Olympic Medal Counts\n",
    "\n",
    "### Assignment 4\n",
    "\n",
    "### By Rina Irene Rafalski \n",
    "### Intern Code: OGTIPIRDS835\n",
    "### Mentor: Manisha Anand"
   ]
  },
  {
   "cell_type": "markdown",
   "metadata": {},
   "source": [
    "# <a id=\"index\">Table of Contents:</a>  \n",
    "\n",
    "[Project Overview](#project_overview)<br>\n",
    "[Dataset Description](#dataset_description)<br>\n",
    "1. [Data Pre-processing](#data_preprocessing)<br>\n",
    "    1.1 [Data Cleaning](#data_cleaning)<br>\n",
    "    1.2 [Feature Engineering](#feature_engineering)<br>\n",
    "2. [Exploratory Data Analysis (EDA)](#eda)<br>\n",
    "    2.1 [Descriptive Statistics](#descriptive_statistics)<br>\n",
    "    2.2 [Visualizations](#visualizations)<br>\n",
    "    2.3 [Feature Analysis](#feature_analysis)<br>\n",
    "3. [Machine Learning Models](#machine_learning_models)<br>\n",
    "    3.1 [Linear Regression](#linear_regression)<br>\n",
    "    3.2 [Decision Trees](#decision_trees)<br>\n",
    "    3.3 [Random Forest](#random_forest)<br>\n",
    "4. [Deep Learning Models](#deep_learning_models)<br>\n",
    "    4.1 [Neural Network](#neural_network)<br>\n",
    "    4.2 [Hyperparameter_Tuning](#hyperparameter_tuning)<br>\n",
    "5. [Model Evaluation](#model_evaluation)<br>\n",
    "    5.1 [Performance Metrics](#performance_metrics)<br>\n",
    "    5.2 [Model Comparison](#model_comparison)<br>   \n",
    "6. [Interpretation and Insights](#interpretation_and_insights)<br>\n",
    "    6.1 [Feature Importance](#feature_importance)<br>\n",
    "    6.2 [Model Interpretation](#model_interpretation)<br>       \n",
    " "
   ]
  },
  {
   "cell_type": "markdown",
   "metadata": {},
   "source": [
    "#  <a id=\"project_overview\">Project Overview</a> <font size='3'>[[Table of contents🔝]](#index)]<font size>\n",
    "\n",
    "In this project, you will explore basic machine learning (ML) and deep learning (DL)\n",
    "techniques to predict the number of Olympic medals a country will win. The dataset\n",
    "provided includes features such as GDP, population, and sports index, along with the\n",
    "actual number of medals won. You will build and evaluate different models to\n",
    "understand which factors are most influential in predicting Olympic success."
   ]
  },
  {
   "cell_type": "markdown",
   "metadata": {},
   "source": [
    "####  <a id=\"dataset_description\">Dataset Description</a> <font size='3'>[[Table of contents🔝]](#index)]<font size>\n",
    "The dataset includes 14 columns:\n",
    "- iso: Country ISO code\n",
    "- ioc: International Olympic Committee code\n",
    "- name: Country name\n",
    "- continent: Continent of the country\n",
    "- population: Population of the country\n",
    "- gdp: Gross Domestic Product (GDP) of the country\n",
    "- olympics_index: An index indicating the country's overall performance in the\n",
    "Olympics\n",
    "- sports_index: An index indicating the country's sports infrastructure and support\n",
    "- olympicsIndex: A calculated index related to Olympic performance\n",
    "- sportsIndex: A calculated index related to sports\n",
    "- total: Total number of medals won\n",
    "- gold: Number of gold medals won\n",
    "- silver: Number of silver medals won\n",
    "- bronze: Number of bronze medals won"
   ]
  },
  {
   "cell_type": "markdown",
   "metadata": {},
   "source": [
    "# 1. <a id=\"data_preprocessing\">Data Preprocessing</a> <font size='3'>[[Table of contents🔝]](#index)]<font size>"
   ]
  },
  {
   "cell_type": "code",
   "execution_count": 1,
   "metadata": {
    "_kg_hide-input": false,
    "_kg_hide-output": false,
    "execution": {
     "iopub.execute_input": "2022-07-27T22:14:34.912079Z",
     "iopub.status.busy": "2022-07-27T22:14:34.911697Z",
     "iopub.status.idle": "2022-07-27T22:14:36.619779Z",
     "shell.execute_reply": "2022-07-27T22:14:36.618687Z",
     "shell.execute_reply.started": "2022-07-27T22:14:34.912047Z"
    }
   },
   "outputs": [],
   "source": [
    "# Importing the libraries\n",
    "\n",
    "import numpy as np\n",
    "import pandas as pd\n",
    "import matplotlib.pyplot as plt\n",
    "import seaborn as sns\n",
    "\n",
    "from sklearn.model_selection import train_test_split\n",
    "from sklearn.linear_model import LinearRegression\n",
    "from sklearn.ensemble import RandomForestRegressor\n",
    "from sklearn.tree import DecisionTreeRegressor\n",
    "from sklearn.metrics import mean_absolute_error, mean_squared_error, r2_score\n",
    "from sklearn.preprocessing import StandardScaler\n"
   ]
  },
  {
   "cell_type": "code",
   "execution_count": 2,
   "metadata": {
    "execution": {
     "iopub.execute_input": "2022-07-27T22:14:36.623389Z",
     "iopub.status.busy": "2022-07-27T22:14:36.622496Z",
     "iopub.status.idle": "2022-07-27T22:14:36.689804Z",
     "shell.execute_reply": "2022-07-27T22:14:36.688569Z",
     "shell.execute_reply.started": "2022-07-27T22:14:36.623348Z"
    }
   },
   "outputs": [
    {
     "data": {
      "text/html": [
       "<div>\n",
       "<style scoped>\n",
       "    .dataframe tbody tr th:only-of-type {\n",
       "        vertical-align: middle;\n",
       "    }\n",
       "\n",
       "    .dataframe tbody tr th {\n",
       "        vertical-align: top;\n",
       "    }\n",
       "\n",
       "    .dataframe thead th {\n",
       "        text-align: right;\n",
       "    }\n",
       "</style>\n",
       "<table border=\"1\" class=\"dataframe\">\n",
       "  <thead>\n",
       "    <tr style=\"text-align: right;\">\n",
       "      <th></th>\n",
       "      <th>iso</th>\n",
       "      <th>ioc</th>\n",
       "      <th>name</th>\n",
       "      <th>continent</th>\n",
       "      <th>population</th>\n",
       "      <th>gdp</th>\n",
       "      <th>olympics_index</th>\n",
       "      <th>sports_index</th>\n",
       "      <th>olympicsIndex</th>\n",
       "      <th>sportsIndex</th>\n",
       "      <th>total</th>\n",
       "      <th>gold</th>\n",
       "      <th>silver</th>\n",
       "      <th>bronze</th>\n",
       "    </tr>\n",
       "  </thead>\n",
       "  <tbody>\n",
       "    <tr>\n",
       "      <th>0</th>\n",
       "      <td>ARG</td>\n",
       "      <td>ARG</td>\n",
       "      <td>Argentina</td>\n",
       "      <td>South America</td>\n",
       "      <td>45376763</td>\n",
       "      <td>383066977654</td>\n",
       "      <td>19.597142</td>\n",
       "      <td>9.324537</td>\n",
       "      <td>19.597142</td>\n",
       "      <td>9.324537</td>\n",
       "      <td>3</td>\n",
       "      <td>0</td>\n",
       "      <td>1</td>\n",
       "      <td>2</td>\n",
       "    </tr>\n",
       "    <tr>\n",
       "      <th>1</th>\n",
       "      <td>ARM</td>\n",
       "      <td>ARM</td>\n",
       "      <td>Armenia</td>\n",
       "      <td>Asia</td>\n",
       "      <td>2963234</td>\n",
       "      <td>12645459214</td>\n",
       "      <td>19.681457</td>\n",
       "      <td>13.497324</td>\n",
       "      <td>19.681457</td>\n",
       "      <td>13.497324</td>\n",
       "      <td>4</td>\n",
       "      <td>0</td>\n",
       "      <td>2</td>\n",
       "      <td>2</td>\n",
       "    </tr>\n",
       "    <tr>\n",
       "      <th>2</th>\n",
       "      <td>AUS</td>\n",
       "      <td>AUS</td>\n",
       "      <td>Australia</td>\n",
       "      <td>Oceania</td>\n",
       "      <td>25687041</td>\n",
       "      <td>1330900925057</td>\n",
       "      <td>31.170099</td>\n",
       "      <td>11.073845</td>\n",
       "      <td>31.170099</td>\n",
       "      <td>11.073845</td>\n",
       "      <td>46</td>\n",
       "      <td>17</td>\n",
       "      <td>7</td>\n",
       "      <td>22</td>\n",
       "    </tr>\n",
       "    <tr>\n",
       "      <th>3</th>\n",
       "      <td>AUT</td>\n",
       "      <td>AUT</td>\n",
       "      <td>Austria</td>\n",
       "      <td>Europe</td>\n",
       "      <td>8917205</td>\n",
       "      <td>428965397959</td>\n",
       "      <td>12.212139</td>\n",
       "      <td>15.923033</td>\n",
       "      <td>12.212139</td>\n",
       "      <td>15.923033</td>\n",
       "      <td>7</td>\n",
       "      <td>1</td>\n",
       "      <td>1</td>\n",
       "      <td>5</td>\n",
       "    </tr>\n",
       "    <tr>\n",
       "      <th>4</th>\n",
       "      <td>AZE</td>\n",
       "      <td>AZE</td>\n",
       "      <td>Azerbaijan</td>\n",
       "      <td>Europe</td>\n",
       "      <td>10110116</td>\n",
       "      <td>42607176471</td>\n",
       "      <td>18.213838</td>\n",
       "      <td>13.103344</td>\n",
       "      <td>18.213838</td>\n",
       "      <td>13.103344</td>\n",
       "      <td>7</td>\n",
       "      <td>0</td>\n",
       "      <td>3</td>\n",
       "      <td>4</td>\n",
       "    </tr>\n",
       "  </tbody>\n",
       "</table>\n",
       "</div>"
      ],
      "text/plain": [
       "   iso  ioc        name      continent  population            gdp  \\\n",
       "0  ARG  ARG   Argentina  South America    45376763   383066977654   \n",
       "1  ARM  ARM     Armenia           Asia     2963234    12645459214   \n",
       "2  AUS  AUS   Australia        Oceania    25687041  1330900925057   \n",
       "3  AUT  AUT     Austria         Europe     8917205   428965397959   \n",
       "4  AZE  AZE  Azerbaijan         Europe    10110116    42607176471   \n",
       "\n",
       "   olympics_index  sports_index  olympicsIndex  sportsIndex  total  gold  \\\n",
       "0       19.597142      9.324537      19.597142     9.324537      3     0   \n",
       "1       19.681457     13.497324      19.681457    13.497324      4     0   \n",
       "2       31.170099     11.073845      31.170099    11.073845     46    17   \n",
       "3       12.212139     15.923033      12.212139    15.923033      7     1   \n",
       "4       18.213838     13.103344      18.213838    13.103344      7     0   \n",
       "\n",
       "   silver  bronze  \n",
       "0       1       2  \n",
       "1       2       2  \n",
       "2       7      22  \n",
       "3       1       5  \n",
       "4       3       4  "
      ]
     },
     "execution_count": 2,
     "metadata": {},
     "output_type": "execute_result"
    }
   ],
   "source": [
    "# Load the dataset\n",
    "file_path = 'olympic_medals.csv'\n",
    "df = pd.read_csv(file_path)\n",
    "\n",
    "df.head(5)"
   ]
  },
  {
   "cell_type": "code",
   "execution_count": 3,
   "metadata": {
    "_kg_hide-input": true,
    "_kg_hide-output": false,
    "execution": {
     "iopub.execute_input": "2022-07-27T22:14:36.692771Z",
     "iopub.status.busy": "2022-07-27T22:14:36.691833Z",
     "iopub.status.idle": "2022-07-27T22:14:36.743776Z",
     "shell.execute_reply": "2022-07-27T22:14:36.742566Z",
     "shell.execute_reply.started": "2022-07-27T22:14:36.692722Z"
    },
    "scrolled": true
   },
   "outputs": [
    {
     "name": "stdout",
     "output_type": "stream",
     "text": [
      "Shape of this dataset is (93, 14).\n",
      "==================================================\n",
      "<class 'pandas.core.frame.DataFrame'>\n",
      "RangeIndex: 93 entries, 0 to 92\n",
      "Data columns (total 14 columns):\n",
      " #   Column          Non-Null Count  Dtype  \n",
      "---  ------          --------------  -----  \n",
      " 0   iso             93 non-null     object \n",
      " 1   ioc             93 non-null     object \n",
      " 2   name            93 non-null     object \n",
      " 3   continent       88 non-null     object \n",
      " 4   population      93 non-null     int64  \n",
      " 5   gdp             93 non-null     int64  \n",
      " 6   olympics_index  91 non-null     float64\n",
      " 7   sports_index    91 non-null     float64\n",
      " 8   olympicsIndex   93 non-null     float64\n",
      " 9   sportsIndex     93 non-null     float64\n",
      " 10  total           93 non-null     int64  \n",
      " 11  gold            93 non-null     int64  \n",
      " 12  silver          93 non-null     int64  \n",
      " 13  bronze          93 non-null     int64  \n",
      "dtypes: float64(4), int64(6), object(4)\n",
      "memory usage: 10.3+ KB\n",
      "None\n",
      "==================================================\n",
      "         population           gdp  olympics_index  sports_index  \\\n",
      "count  9.300000e+01  9.300000e+01       91.000000     91.000000   \n",
      "mean   6.639237e+07  8.668410e+11       20.677422     16.329262   \n",
      "std    2.057474e+08  2.702387e+12       12.631319      8.932897   \n",
      "min    3.393800e+04  0.000000e+00        1.000000      7.396478   \n",
      "25%    4.994724e+06  4.369766e+10       12.694592     10.823462   \n",
      "50%    1.132662e+07  1.698354e+11       18.783582     13.931504   \n",
      "75%    4.735157e+07  5.153325e+11       26.099431     19.019704   \n",
      "max    1.402112e+09  2.093660e+13      100.000000     72.227313   \n",
      "\n",
      "       olympicsIndex  sportsIndex       total       gold     silver     bronze  \n",
      "count      93.000000    93.000000   93.000000  93.000000  93.000000  93.000000  \n",
      "mean       20.232746    15.978095   11.612903   3.655914   3.634409   4.322581  \n",
      "std        12.852103     9.150623   19.091332   7.022471   6.626339   6.210372  \n",
      "min         0.000000     0.000000    1.000000   0.000000   0.000000   0.000000  \n",
      "25%        12.212139    10.607469    2.000000   0.000000   0.000000   1.000000  \n",
      "50%        18.213838    13.891772    4.000000   1.000000   1.000000   2.000000  \n",
      "75%        26.037386    18.984764   11.000000   3.000000   4.000000   5.000000  \n",
      "max       100.000000    72.227313  113.000000  39.000000  41.000000  33.000000  \n",
      "==================================================\n",
      "Missing values in any of the columns this dataset are\n",
      "iso               0\n",
      "ioc               0\n",
      "name              0\n",
      "continent         5\n",
      "population        0\n",
      "gdp               0\n",
      "olympics_index    2\n",
      "sports_index      2\n",
      "olympicsIndex     0\n",
      "sportsIndex       0\n",
      "total             0\n",
      "gold              0\n",
      "silver            0\n",
      "bronze            0\n",
      "dtype: int64\n"
     ]
    }
   ],
   "source": [
    "# Defining custom function to display basic information about the dataset \n",
    "# including shape, datatypes, statistics, null values.\n",
    "def basic_info(df):\n",
    "    print(f'Shape of this dataset is {df.shape}.')\n",
    "    print('='*50)\n",
    "    print(df.info())\n",
    "    print(\"=\"*50)\n",
    "    print(df.describe())\n",
    "    print(\"=\"*50)\n",
    "    print(f'Missing values in any of the columns this dataset are\\n{df.isnull().sum(axis=0)}')\n",
    "    \n",
    "# Calling the custom function to display basic_info of dataset   \n",
    "basic_info(df)"
   ]
  },
  {
   "cell_type": "markdown",
   "metadata": {},
   "source": [
    "### Observations:\n",
    "- The shape of this dataframe is (93, 14) i.e., 93 records or observations with 14 features\n",
    "- Columns with null (missing) values\n",
    "       - continent: 5\n",
    "       - olympics_index: 2\n",
    "       - sports_index: 2\n",
    "- Redundant columns (columns with identical values except for 2 that are missing)\n",
    "       - olympics_index | olympicsIndex\n",
    "       - sports_index | sportsIndex\n",
    "       \n",
    "- Columns with 0 (incorect) values \n",
    "       - gdp\n",
    "       - olympics_index\n",
    "       - sports_index"
   ]
  },
  {
   "cell_type": "markdown",
   "metadata": {},
   "source": [
    "## 1.1 <a id=\"data_cleaning\">Data Cleaning</a> <font size='3'>[[Table of contents🔝]](#index)]<font size>"
   ]
  },
  {
   "cell_type": "code",
   "execution_count": 4,
   "metadata": {},
   "outputs": [
    {
     "data": {
      "text/html": [
       "<div>\n",
       "<style scoped>\n",
       "    .dataframe tbody tr th:only-of-type {\n",
       "        vertical-align: middle;\n",
       "    }\n",
       "\n",
       "    .dataframe tbody tr th {\n",
       "        vertical-align: top;\n",
       "    }\n",
       "\n",
       "    .dataframe thead th {\n",
       "        text-align: right;\n",
       "    }\n",
       "</style>\n",
       "<table border=\"1\" class=\"dataframe\">\n",
       "  <thead>\n",
       "    <tr style=\"text-align: right;\">\n",
       "      <th></th>\n",
       "      <th>iso</th>\n",
       "      <th>ioc</th>\n",
       "      <th>name</th>\n",
       "      <th>continent</th>\n",
       "      <th>population</th>\n",
       "      <th>gdp</th>\n",
       "      <th>total</th>\n",
       "      <th>gold</th>\n",
       "      <th>silver</th>\n",
       "      <th>bronze</th>\n",
       "      <th>olympics_index</th>\n",
       "      <th>sports_index</th>\n",
       "    </tr>\n",
       "  </thead>\n",
       "  <tbody>\n",
       "    <tr>\n",
       "      <th>0</th>\n",
       "      <td>ARG</td>\n",
       "      <td>ARG</td>\n",
       "      <td>Argentina</td>\n",
       "      <td>South America</td>\n",
       "      <td>45376763</td>\n",
       "      <td>383066977654</td>\n",
       "      <td>3</td>\n",
       "      <td>0</td>\n",
       "      <td>1</td>\n",
       "      <td>2</td>\n",
       "      <td>19.597142</td>\n",
       "      <td>9.324537</td>\n",
       "    </tr>\n",
       "    <tr>\n",
       "      <th>1</th>\n",
       "      <td>ARM</td>\n",
       "      <td>ARM</td>\n",
       "      <td>Armenia</td>\n",
       "      <td>Asia</td>\n",
       "      <td>2963234</td>\n",
       "      <td>12645459214</td>\n",
       "      <td>4</td>\n",
       "      <td>0</td>\n",
       "      <td>2</td>\n",
       "      <td>2</td>\n",
       "      <td>19.681457</td>\n",
       "      <td>13.497324</td>\n",
       "    </tr>\n",
       "    <tr>\n",
       "      <th>2</th>\n",
       "      <td>AUS</td>\n",
       "      <td>AUS</td>\n",
       "      <td>Australia</td>\n",
       "      <td>Oceania</td>\n",
       "      <td>25687041</td>\n",
       "      <td>1330900925057</td>\n",
       "      <td>46</td>\n",
       "      <td>17</td>\n",
       "      <td>7</td>\n",
       "      <td>22</td>\n",
       "      <td>31.170099</td>\n",
       "      <td>11.073845</td>\n",
       "    </tr>\n",
       "    <tr>\n",
       "      <th>3</th>\n",
       "      <td>AUT</td>\n",
       "      <td>AUT</td>\n",
       "      <td>Austria</td>\n",
       "      <td>Europe</td>\n",
       "      <td>8917205</td>\n",
       "      <td>428965397959</td>\n",
       "      <td>7</td>\n",
       "      <td>1</td>\n",
       "      <td>1</td>\n",
       "      <td>5</td>\n",
       "      <td>12.212139</td>\n",
       "      <td>15.923033</td>\n",
       "    </tr>\n",
       "    <tr>\n",
       "      <th>4</th>\n",
       "      <td>AZE</td>\n",
       "      <td>AZE</td>\n",
       "      <td>Azerbaijan</td>\n",
       "      <td>Europe</td>\n",
       "      <td>10110116</td>\n",
       "      <td>42607176471</td>\n",
       "      <td>7</td>\n",
       "      <td>0</td>\n",
       "      <td>3</td>\n",
       "      <td>4</td>\n",
       "      <td>18.213838</td>\n",
       "      <td>13.103344</td>\n",
       "    </tr>\n",
       "  </tbody>\n",
       "</table>\n",
       "</div>"
      ],
      "text/plain": [
       "   iso  ioc        name      continent  population            gdp  total  \\\n",
       "0  ARG  ARG   Argentina  South America    45376763   383066977654      3   \n",
       "1  ARM  ARM     Armenia           Asia     2963234    12645459214      4   \n",
       "2  AUS  AUS   Australia        Oceania    25687041  1330900925057     46   \n",
       "3  AUT  AUT     Austria         Europe     8917205   428965397959      7   \n",
       "4  AZE  AZE  Azerbaijan         Europe    10110116    42607176471      7   \n",
       "\n",
       "   gold  silver  bronze  olympics_index  sports_index  \n",
       "0     0       1       2       19.597142      9.324537  \n",
       "1     0       2       2       19.681457     13.497324  \n",
       "2    17       7      22       31.170099     11.073845  \n",
       "3     1       1       5       12.212139     15.923033  \n",
       "4     0       3       4       18.213838     13.103344  "
      ]
     },
     "execution_count": 4,
     "metadata": {},
     "output_type": "execute_result"
    }
   ],
   "source": [
    "# Handling the redundant columns\n",
    "\n",
    "# Combine the 'olympics_index' and 'olympicsIndex' columns\n",
    "df['olympics_index_combined'] = df['olympics_index'].combine_first(df['olympicsIndex'])\n",
    "\n",
    "# Combine the 'sports_index' and 'sportsIndex' columns\n",
    "df['sports_index_combined'] = df['sports_index'].combine_first(df['sportsIndex'])\n",
    "\n",
    "# Drop the original redundant columns\n",
    "df.drop(columns=['olympics_index', 'olympicsIndex', 'sports_index', 'sportsIndex'], inplace=True)\n",
    "\n",
    "# Rename the combined columns to the original names\n",
    "df.rename(columns={'olympics_index_combined': 'olympics_index', \n",
    "                   'sports_index_combined': 'sports_index'}, inplace=True)\n",
    "df.head(5)"
   ]
  },
  {
   "cell_type": "code",
   "execution_count": 5,
   "metadata": {},
   "outputs": [
    {
     "data": {
      "text/plain": [
       "[\"Côte d'Ivoire\", 'Moldova', 'North Macedonia', 'Syria', 'Kosovo']"
      ]
     },
     "execution_count": 5,
     "metadata": {},
     "output_type": "execute_result"
    }
   ],
   "source": [
    "# Handling the missing continents\n",
    "\n",
    "# Rename the 'name' column to 'country'\n",
    "df.rename(columns={'name': 'country'}, inplace=True)\n",
    "\n",
    "# Retrieve the 'country' values where 'continent' is missing\n",
    "missing_continent_countries = df[df['continent'].isnull()]['country']\n",
    "\n",
    "missing_continent_countries.tolist()"
   ]
  },
  {
   "cell_type": "code",
   "execution_count": 6,
   "metadata": {},
   "outputs": [],
   "source": [
    "# Mapping of countries to their respective continents\n",
    "missing_country_to_continent = {\n",
    "    \"Côte d'Ivoire\": 'Africa',\n",
    "    'Moldova': 'Europe',\n",
    "    'North Macedonia': 'Europe',\n",
    "    'Syria': 'Asia',\n",
    "    'Kosovo': 'Europe'\n",
    "}\n",
    "\n",
    "# Fill in missing 'continent' values based on the 'country' column\n",
    "df['continent'] = df.apply(\n",
    "    lambda row: missing_country_to_continent.get(row['country'], row['continent']) if pd.isnull(row['continent']) else row['continent'],\n",
    "    axis=1\n",
    ")"
   ]
  },
  {
   "cell_type": "code",
   "execution_count": 7,
   "metadata": {},
   "outputs": [
    {
     "data": {
      "text/plain": [
       "80    Syria\n",
       "Name: country, dtype: object"
      ]
     },
     "execution_count": 7,
     "metadata": {},
     "output_type": "execute_result"
    }
   ],
   "source": [
    "# Handling 0 value of GDP\n",
    "\n",
    "# Filter the countries with GDP of 0\n",
    "countries_with_zero_gdp = df[df['gdp'] == 0]['country']\n",
    "countries_with_zero_gdp"
   ]
  },
  {
   "cell_type": "code",
   "execution_count": 8,
   "metadata": {},
   "outputs": [
    {
     "data": {
      "text/html": [
       "<div>\n",
       "<style scoped>\n",
       "    .dataframe tbody tr th:only-of-type {\n",
       "        vertical-align: middle;\n",
       "    }\n",
       "\n",
       "    .dataframe tbody tr th {\n",
       "        vertical-align: top;\n",
       "    }\n",
       "\n",
       "    .dataframe thead th {\n",
       "        text-align: right;\n",
       "    }\n",
       "</style>\n",
       "<table border=\"1\" class=\"dataframe\">\n",
       "  <thead>\n",
       "    <tr style=\"text-align: right;\">\n",
       "      <th></th>\n",
       "      <th>iso</th>\n",
       "      <th>ioc</th>\n",
       "      <th>country</th>\n",
       "      <th>continent</th>\n",
       "      <th>population</th>\n",
       "      <th>gdp</th>\n",
       "      <th>total</th>\n",
       "      <th>gold</th>\n",
       "      <th>silver</th>\n",
       "      <th>bronze</th>\n",
       "      <th>olympics_index</th>\n",
       "      <th>sports_index</th>\n",
       "    </tr>\n",
       "  </thead>\n",
       "  <tbody>\n",
       "    <tr>\n",
       "      <th>80</th>\n",
       "      <td>SYR</td>\n",
       "      <td>SYR</td>\n",
       "      <td>Syria</td>\n",
       "      <td>Asia</td>\n",
       "      <td>17500657</td>\n",
       "      <td>8970000000</td>\n",
       "      <td>1</td>\n",
       "      <td>0</td>\n",
       "      <td>0</td>\n",
       "      <td>1</td>\n",
       "      <td>7.750732</td>\n",
       "      <td>16.581705</td>\n",
       "    </tr>\n",
       "  </tbody>\n",
       "</table>\n",
       "</div>"
      ],
      "text/plain": [
       "    iso  ioc country continent  population         gdp  total  gold  silver  \\\n",
       "80  SYR  SYR   Syria      Asia    17500657  8970000000      1     0       0   \n",
       "\n",
       "    bronze  olympics_index  sports_index  \n",
       "80       1        7.750732     16.581705  "
      ]
     },
     "execution_count": 8,
     "metadata": {},
     "output_type": "execute_result"
    }
   ],
   "source": [
    "# Update the gdp for Syria with value from google search: 8.97 billion USD (2021)\n",
    "df.loc[df['country'] == 'Syria', 'gdp'] = 8.97e9\n",
    "\n",
    "# Display the updated row for Syria\n",
    "df[df['country'] == 'Syria']"
   ]
  },
  {
   "cell_type": "code",
   "execution_count": 9,
   "metadata": {},
   "outputs": [
    {
     "data": {
      "text/html": [
       "<div>\n",
       "<style scoped>\n",
       "    .dataframe tbody tr th:only-of-type {\n",
       "        vertical-align: middle;\n",
       "    }\n",
       "\n",
       "    .dataframe tbody tr th {\n",
       "        vertical-align: top;\n",
       "    }\n",
       "\n",
       "    .dataframe thead th {\n",
       "        text-align: right;\n",
       "    }\n",
       "</style>\n",
       "<table border=\"1\" class=\"dataframe\">\n",
       "  <thead>\n",
       "    <tr style=\"text-align: right;\">\n",
       "      <th></th>\n",
       "      <th>iso</th>\n",
       "      <th>ioc</th>\n",
       "      <th>country</th>\n",
       "      <th>continent</th>\n",
       "      <th>population</th>\n",
       "      <th>gdp</th>\n",
       "      <th>total</th>\n",
       "      <th>gold</th>\n",
       "      <th>silver</th>\n",
       "      <th>bronze</th>\n",
       "      <th>olympics_index</th>\n",
       "      <th>sports_index</th>\n",
       "    </tr>\n",
       "  </thead>\n",
       "  <tbody>\n",
       "    <tr>\n",
       "      <th>42</th>\n",
       "      <td>IRL</td>\n",
       "      <td>IRL</td>\n",
       "      <td>Ireland</td>\n",
       "      <td>Europe</td>\n",
       "      <td>4994724</td>\n",
       "      <td>418621818482</td>\n",
       "      <td>4</td>\n",
       "      <td>2</td>\n",
       "      <td>0</td>\n",
       "      <td>2</td>\n",
       "      <td>0.0</td>\n",
       "      <td>0.0</td>\n",
       "    </tr>\n",
       "    <tr>\n",
       "      <th>59</th>\n",
       "      <td>MKD</td>\n",
       "      <td>MKD</td>\n",
       "      <td>North Macedonia</td>\n",
       "      <td>Europe</td>\n",
       "      <td>2083380</td>\n",
       "      <td>12266949805</td>\n",
       "      <td>1</td>\n",
       "      <td>0</td>\n",
       "      <td>1</td>\n",
       "      <td>0</td>\n",
       "      <td>0.0</td>\n",
       "      <td>0.0</td>\n",
       "    </tr>\n",
       "  </tbody>\n",
       "</table>\n",
       "</div>"
      ],
      "text/plain": [
       "    iso  ioc          country continent  population           gdp  total  \\\n",
       "42  IRL  IRL          Ireland    Europe     4994724  418621818482      4   \n",
       "59  MKD  MKD  North Macedonia    Europe     2083380   12266949805      1   \n",
       "\n",
       "    gold  silver  bronze  olympics_index  sports_index  \n",
       "42     2       0       2             0.0           0.0  \n",
       "59     0       1       0             0.0           0.0  "
      ]
     },
     "execution_count": 9,
     "metadata": {},
     "output_type": "execute_result"
    }
   ],
   "source": [
    "# Handling 0 value of olympics_index and sports_index\n",
    "\n",
    "# Filter the countries with olympics_index of 0\n",
    "countries_with_zero_olympics_index = df[(df['olympics_index'] == 0) | (df['sports_index'] == 0)]\n",
    "\n",
    "countries_with_zero_olympics_index"
   ]
  },
  {
   "cell_type": "code",
   "execution_count": 10,
   "metadata": {},
   "outputs": [],
   "source": [
    "# Remove rows where 'olympics_index' and 'sports_index' is 0\n",
    "cleaned_df = df[(df['olympics_index'] != 0) & (df['sports_index'] != 0)]"
   ]
  },
  {
   "cell_type": "code",
   "execution_count": 11,
   "metadata": {},
   "outputs": [
    {
     "name": "stdout",
     "output_type": "stream",
     "text": [
      "Shape of this dataset is (91, 12).\n",
      "==================================================\n",
      "<class 'pandas.core.frame.DataFrame'>\n",
      "Int64Index: 91 entries, 0 to 92\n",
      "Data columns (total 12 columns):\n",
      " #   Column          Non-Null Count  Dtype  \n",
      "---  ------          --------------  -----  \n",
      " 0   iso             91 non-null     object \n",
      " 1   ioc             91 non-null     object \n",
      " 2   country         91 non-null     object \n",
      " 3   continent       91 non-null     object \n",
      " 4   population      91 non-null     int64  \n",
      " 5   gdp             91 non-null     int64  \n",
      " 6   total           91 non-null     int64  \n",
      " 7   gold            91 non-null     int64  \n",
      " 8   silver          91 non-null     int64  \n",
      " 9   bronze          91 non-null     int64  \n",
      " 10  olympics_index  91 non-null     float64\n",
      " 11  sports_index    91 non-null     float64\n",
      "dtypes: float64(2), int64(6), object(4)\n",
      "memory usage: 9.2+ KB\n",
      "None\n",
      "==================================================\n",
      "         population           gdp       total       gold     silver  \\\n",
      "count  9.100000e+01  9.100000e+01   91.000000  91.000000  91.000000   \n",
      "mean   6.777376e+07  8.812560e+11   11.813187   3.714286   3.703297   \n",
      "std    2.078051e+08  2.730285e+12   19.252078   7.087212   6.682472   \n",
      "min    3.393800e+04  1.089204e+09    1.000000   0.000000   0.000000   \n",
      "25%    5.231888e+06  4.446454e+10    2.000000   0.000000   0.500000   \n",
      "50%    1.155600e+07  1.698354e+11    5.000000   1.000000   1.000000   \n",
      "75%    4.911723e+07  5.264712e+11   11.000000   3.000000   4.000000   \n",
      "max    1.402112e+09  2.093660e+13  113.000000  39.000000  41.000000   \n",
      "\n",
      "          bronze  olympics_index  sports_index  \n",
      "count  91.000000       91.000000     91.000000  \n",
      "mean    4.395604       20.677422     16.329262  \n",
      "std     6.257225       12.631319      8.932897  \n",
      "min     0.000000        1.000000      7.396478  \n",
      "25%     1.000000       12.694592     10.823462  \n",
      "50%     2.000000       18.783582     13.931504  \n",
      "75%     5.000000       26.099431     19.019704  \n",
      "max    33.000000      100.000000     72.227313  \n",
      "==================================================\n",
      "Missing values in any of the columns this dataset are\n",
      "iso               0\n",
      "ioc               0\n",
      "country           0\n",
      "continent         0\n",
      "population        0\n",
      "gdp               0\n",
      "total             0\n",
      "gold              0\n",
      "silver            0\n",
      "bronze            0\n",
      "olympics_index    0\n",
      "sports_index      0\n",
      "dtype: int64\n"
     ]
    }
   ],
   "source": [
    "# Calling basic_info of handled dataset   \n",
    "basic_info(cleaned_df)"
   ]
  },
  {
   "cell_type": "code",
   "execution_count": 12,
   "metadata": {},
   "outputs": [],
   "source": [
    "# Saving the cleaned dataset\n",
    "cleaned_file_path = 'cleaned_olympic_medals.csv'\n",
    "cleaned_df.to_csv(cleaned_file_path, index=False)"
   ]
  },
  {
   "cell_type": "markdown",
   "metadata": {},
   "source": [
    "## 1.2 <a id=\"feature_engineering\">Feature Engineering</a> <font size='3'>[[Table of contents🔝]](#index)]<font size>"
   ]
  },
  {
   "cell_type": "markdown",
   "metadata": {},
   "source": [
    "Gross domestic product (GDP) is a measurement that describes the value of a geographic location’s total goods and services, and how it relates to the population of the region. GDP per capita is an evolution of this metric, it is obtained by dividing a country's GDP by its population."
   ]
  },
  {
   "cell_type": "code",
   "execution_count": 13,
   "metadata": {},
   "outputs": [],
   "source": [
    "# Create a new feature 'GDP per capita' by dividing GDP by population. \n",
    "# It is a measure of the relative health of that country’s overall economy and industry.\n",
    "\n",
    "cleaned_df = cleaned_df.copy()\n",
    "cleaned_df['gdp_per_capita'] = cleaned_df['gdp'] / cleaned_df['population']\n"
   ]
  },
  {
   "cell_type": "code",
   "execution_count": 14,
   "metadata": {},
   "outputs": [
    {
     "data": {
      "text/html": [
       "<div>\n",
       "<style scoped>\n",
       "    .dataframe tbody tr th:only-of-type {\n",
       "        vertical-align: middle;\n",
       "    }\n",
       "\n",
       "    .dataframe tbody tr th {\n",
       "        vertical-align: top;\n",
       "    }\n",
       "\n",
       "    .dataframe thead th {\n",
       "        text-align: right;\n",
       "    }\n",
       "</style>\n",
       "<table border=\"1\" class=\"dataframe\">\n",
       "  <thead>\n",
       "    <tr style=\"text-align: right;\">\n",
       "      <th></th>\n",
       "      <th>gdp</th>\n",
       "      <th>population</th>\n",
       "      <th>gdp_per_capita</th>\n",
       "      <th>olympics_index</th>\n",
       "      <th>sports_index</th>\n",
       "    </tr>\n",
       "  </thead>\n",
       "  <tbody>\n",
       "    <tr>\n",
       "      <th>0</th>\n",
       "      <td>-0.183479</td>\n",
       "      <td>-0.108376</td>\n",
       "      <td>-0.559011</td>\n",
       "      <td>-0.085998</td>\n",
       "      <td>-0.788494</td>\n",
       "    </tr>\n",
       "    <tr>\n",
       "      <th>1</th>\n",
       "      <td>-0.319902</td>\n",
       "      <td>-0.313609</td>\n",
       "      <td>-0.751413</td>\n",
       "      <td>-0.079286</td>\n",
       "      <td>-0.318780</td>\n",
       "    </tr>\n",
       "    <tr>\n",
       "      <th>2</th>\n",
       "      <td>0.165600</td>\n",
       "      <td>-0.203652</td>\n",
       "      <td>1.439932</td>\n",
       "      <td>0.835289</td>\n",
       "      <td>-0.591581</td>\n",
       "    </tr>\n",
       "    <tr>\n",
       "      <th>3</th>\n",
       "      <td>-0.166575</td>\n",
       "      <td>-0.284799</td>\n",
       "      <td>1.269086</td>\n",
       "      <td>-0.673895</td>\n",
       "      <td>-0.045728</td>\n",
       "    </tr>\n",
       "    <tr>\n",
       "      <th>4</th>\n",
       "      <td>-0.308867</td>\n",
       "      <td>-0.279026</td>\n",
       "      <td>-0.753862</td>\n",
       "      <td>-0.196118</td>\n",
       "      <td>-0.363129</td>\n",
       "    </tr>\n",
       "    <tr>\n",
       "      <th>...</th>\n",
       "      <td>...</td>\n",
       "      <td>...</td>\n",
       "      <td>...</td>\n",
       "      <td>...</td>\n",
       "      <td>...</td>\n",
       "    </tr>\n",
       "    <tr>\n",
       "      <th>88</th>\n",
       "      <td>7.386210</td>\n",
       "      <td>1.266381</td>\n",
       "      <td>1.980636</td>\n",
       "      <td>0.436569</td>\n",
       "      <td>-0.736330</td>\n",
       "    </tr>\n",
       "    <tr>\n",
       "      <th>89</th>\n",
       "      <td>-0.303306</td>\n",
       "      <td>-0.162304</td>\n",
       "      <td>-0.870403</td>\n",
       "      <td>0.330597</td>\n",
       "      <td>-0.528841</td>\n",
       "    </tr>\n",
       "    <tr>\n",
       "      <th>90</th>\n",
       "      <td>-0.146895</td>\n",
       "      <td>-0.190350</td>\n",
       "      <td>-0.166206</td>\n",
       "      <td>0.354589</td>\n",
       "      <td>-0.641884</td>\n",
       "    </tr>\n",
       "    <tr>\n",
       "      <th>91</th>\n",
       "      <td>-0.321756</td>\n",
       "      <td>-0.319357</td>\n",
       "      <td>-0.750502</td>\n",
       "      <td>-1.010732</td>\n",
       "      <td>0.691132</td>\n",
       "    </tr>\n",
       "    <tr>\n",
       "      <th>92</th>\n",
       "      <td>-0.213363</td>\n",
       "      <td>-0.040961</td>\n",
       "      <td>-0.713468</td>\n",
       "      <td>-0.731041</td>\n",
       "      <td>-0.256176</td>\n",
       "    </tr>\n",
       "  </tbody>\n",
       "</table>\n",
       "<p>91 rows × 5 columns</p>\n",
       "</div>"
      ],
      "text/plain": [
       "         gdp  population  gdp_per_capita  olympics_index  sports_index\n",
       "0  -0.183479   -0.108376       -0.559011       -0.085998     -0.788494\n",
       "1  -0.319902   -0.313609       -0.751413       -0.079286     -0.318780\n",
       "2   0.165600   -0.203652        1.439932        0.835289     -0.591581\n",
       "3  -0.166575   -0.284799        1.269086       -0.673895     -0.045728\n",
       "4  -0.308867   -0.279026       -0.753862       -0.196118     -0.363129\n",
       "..       ...         ...             ...             ...           ...\n",
       "88  7.386210    1.266381        1.980636        0.436569     -0.736330\n",
       "89 -0.303306   -0.162304       -0.870403        0.330597     -0.528841\n",
       "90 -0.146895   -0.190350       -0.166206        0.354589     -0.641884\n",
       "91 -0.321756   -0.319357       -0.750502       -1.010732      0.691132\n",
       "92 -0.213363   -0.040961       -0.713468       -0.731041     -0.256176\n",
       "\n",
       "[91 rows x 5 columns]"
      ]
     },
     "execution_count": 14,
     "metadata": {},
     "output_type": "execute_result"
    }
   ],
   "source": [
    "# Data Normalization\n",
    "# ensure that all features contribute equally to the model training process \n",
    "# and that the optimization algorithms perform effectively.\n",
    "scaler = StandardScaler()\n",
    "features = ['gdp',\n",
    "            'population', \n",
    "            'gdp_per_capita',\n",
    "            'olympics_index',\n",
    "            'sports_index']\n",
    "cleaned_df[features] = scaler.fit_transform(cleaned_df[features])\n",
    "cleaned_df[features]"
   ]
  },
  {
   "cell_type": "markdown",
   "metadata": {},
   "source": [
    "# 2. <a id=\"eda\">Exploratory Data Analysis (EDA)</a> <font size='3'>[[Table of contents🔝]](#index)]<font size>"
   ]
  },
  {
   "cell_type": "markdown",
   "metadata": {},
   "source": [
    "## 2.1 <a id=\"descriptive_statistics\">Descriptive Statistics</a> <font size='3'>[[Table of contents🔝]](#index)]<font size>"
   ]
  },
  {
   "cell_type": "markdown",
   "metadata": {},
   "source": [
    "Calculating basic statistics for the 'total' medals column to understand its range, mean, median, and spread."
   ]
  },
  {
   "cell_type": "code",
   "execution_count": 15,
   "metadata": {},
   "outputs": [
    {
     "data": {
      "text/html": [
       "<div>\n",
       "<style scoped>\n",
       "    .dataframe tbody tr th:only-of-type {\n",
       "        vertical-align: middle;\n",
       "    }\n",
       "\n",
       "    .dataframe tbody tr th {\n",
       "        vertical-align: top;\n",
       "    }\n",
       "\n",
       "    .dataframe thead th {\n",
       "        text-align: right;\n",
       "    }\n",
       "</style>\n",
       "<table border=\"1\" class=\"dataframe\">\n",
       "  <thead>\n",
       "    <tr style=\"text-align: right;\">\n",
       "      <th></th>\n",
       "      <th>total</th>\n",
       "      <th>gdp</th>\n",
       "      <th>population</th>\n",
       "      <th>gdp_per_capita</th>\n",
       "      <th>olympics_index</th>\n",
       "      <th>sports_index</th>\n",
       "    </tr>\n",
       "  </thead>\n",
       "  <tbody>\n",
       "    <tr>\n",
       "      <th>count</th>\n",
       "      <td>91.000000</td>\n",
       "      <td>9.100000e+01</td>\n",
       "      <td>9.100000e+01</td>\n",
       "      <td>9.100000e+01</td>\n",
       "      <td>9.100000e+01</td>\n",
       "      <td>9.100000e+01</td>\n",
       "    </tr>\n",
       "    <tr>\n",
       "      <th>mean</th>\n",
       "      <td>11.813187</td>\n",
       "      <td>1.921540e-17</td>\n",
       "      <td>9.912706e-18</td>\n",
       "      <td>4.026083e-17</td>\n",
       "      <td>-1.500631e-16</td>\n",
       "      <td>6.710139e-18</td>\n",
       "    </tr>\n",
       "    <tr>\n",
       "      <th>std</th>\n",
       "      <td>19.252078</td>\n",
       "      <td>1.005540e+00</td>\n",
       "      <td>1.005540e+00</td>\n",
       "      <td>1.005540e+00</td>\n",
       "      <td>1.005540e+00</td>\n",
       "      <td>1.005540e+00</td>\n",
       "    </tr>\n",
       "    <tr>\n",
       "      <th>min</th>\n",
       "      <td>1.000000</td>\n",
       "      <td>-3.241578e-01</td>\n",
       "      <td>-3.277837e-01</td>\n",
       "      <td>-9.244767e-01</td>\n",
       "      <td>-1.566459e+00</td>\n",
       "      <td>-1.005528e+00</td>\n",
       "    </tr>\n",
       "    <tr>\n",
       "      <th>25%</th>\n",
       "      <td>2.000000</td>\n",
       "      <td>-3.081830e-01</td>\n",
       "      <td>-3.026316e-01</td>\n",
       "      <td>-7.507967e-01</td>\n",
       "      <td>-6.354884e-01</td>\n",
       "      <td>-6.197658e-01</td>\n",
       "    </tr>\n",
       "    <tr>\n",
       "      <th>50%</th>\n",
       "      <td>5.000000</td>\n",
       "      <td>-2.620100e-01</td>\n",
       "      <td>-2.720301e-01</td>\n",
       "      <td>-4.736188e-01</td>\n",
       "      <td>-1.507628e-01</td>\n",
       "      <td>-2.699060e-01</td>\n",
       "    </tr>\n",
       "    <tr>\n",
       "      <th>75%</th>\n",
       "      <td>11.000000</td>\n",
       "      <td>-1.306642e-01</td>\n",
       "      <td>-9.027641e-02</td>\n",
       "      <td>5.168352e-01</td>\n",
       "      <td>4.316293e-01</td>\n",
       "      <td>3.028522e-01</td>\n",
       "    </tr>\n",
       "    <tr>\n",
       "      <th>max</th>\n",
       "      <td>113.000000</td>\n",
       "      <td>7.386210e+00</td>\n",
       "      <td>6.456680e+00</td>\n",
       "      <td>4.449835e+00</td>\n",
       "      <td>6.314625e+00</td>\n",
       "      <td>6.292219e+00</td>\n",
       "    </tr>\n",
       "  </tbody>\n",
       "</table>\n",
       "</div>"
      ],
      "text/plain": [
       "            total           gdp    population  gdp_per_capita  olympics_index  \\\n",
       "count   91.000000  9.100000e+01  9.100000e+01    9.100000e+01    9.100000e+01   \n",
       "mean    11.813187  1.921540e-17  9.912706e-18    4.026083e-17   -1.500631e-16   \n",
       "std     19.252078  1.005540e+00  1.005540e+00    1.005540e+00    1.005540e+00   \n",
       "min      1.000000 -3.241578e-01 -3.277837e-01   -9.244767e-01   -1.566459e+00   \n",
       "25%      2.000000 -3.081830e-01 -3.026316e-01   -7.507967e-01   -6.354884e-01   \n",
       "50%      5.000000 -2.620100e-01 -2.720301e-01   -4.736188e-01   -1.507628e-01   \n",
       "75%     11.000000 -1.306642e-01 -9.027641e-02    5.168352e-01    4.316293e-01   \n",
       "max    113.000000  7.386210e+00  6.456680e+00    4.449835e+00    6.314625e+00   \n",
       "\n",
       "       sports_index  \n",
       "count  9.100000e+01  \n",
       "mean   6.710139e-18  \n",
       "std    1.005540e+00  \n",
       "min   -1.005528e+00  \n",
       "25%   -6.197658e-01  \n",
       "50%   -2.699060e-01  \n",
       "75%    3.028522e-01  \n",
       "max    6.292219e+00  "
      ]
     },
     "execution_count": 15,
     "metadata": {},
     "output_type": "execute_result"
    }
   ],
   "source": [
    "# Compute basic statistics for numerical features\n",
    "numerical_features = ['total', 'gdp', 'population', 'gdp_per_capita', 'olympics_index', 'sports_index']\n",
    "basic_stats = cleaned_df[numerical_features].describe()\n",
    "basic_stats"
   ]
  },
  {
   "cell_type": "markdown",
   "metadata": {},
   "source": [
    "## 2.2 <a id=\"visualizations\">Visualizations</a> <font size='3'>[[Table of contents🔝]](#index)]<font size>"
   ]
  },
  {
   "cell_type": "code",
   "execution_count": 16,
   "metadata": {},
   "outputs": [
    {
     "data": {
      "image/png": "[encoded data removed]",
      "text/plain": [
       "<Figure size 1440x720 with 4 Axes>"
      ]
     },
     "metadata": {
      "needs_background": "light"
     },
     "output_type": "display_data"
    },
    {
     "data": {
      "image/png": "[encoded data removed]",
      "text/plain": [
       "<Figure size 1440x720 with 4 Axes>"
      ]
     },
     "metadata": {
      "needs_background": "light"
     },
     "output_type": "display_data"
    },
    {
     "data": {
      "image/png": "[encoded data removed]",
      "text/plain": [
       "<Figure size 864x576 with 2 Axes>"
      ]
     },
     "metadata": {
      "needs_background": "light"
     },
     "output_type": "display_data"
    }
   ],
   "source": [
    "# Columns to consider for ploting\n",
    "features_to_plot = ['gdp', 'gdp_per_capita', 'olympics_index', 'sports_index']\n",
    "\n",
    "plt.figure(figsize=(20, 10))\n",
    "\n",
    "for i, feature in enumerate(features_to_plot, 1):\n",
    "    plt.subplot(2, 2, i)\n",
    "    sns.scatterplot(x=feature, y='total', data=cleaned_df)\n",
    "    plt.title(f'{feature} vs Total Medal Count', fontsize=16)  # Increase title font size\n",
    "    plt.xlabel(feature, fontsize=14)  # Increase x-axis label font size\n",
    "    plt.ylabel('Total Medals', fontsize=14)  # Increase y-axis label font size\n",
    "\n",
    "plt.tight_layout()\n",
    "plt.show()\n",
    "\n",
    "# Histograms for the distribution of the selected features\n",
    "plt.figure(figsize=(20, 10))\n",
    "\n",
    "for i, feature in enumerate(features_to_plot, 1):\n",
    "    plt.subplot(2, 2, i)\n",
    "    plt.hist(cleaned_df[feature], bins=20, color='SkyBlue', alpha=0.7)\n",
    "    plt.title(f'Distribution of {feature}', fontsize=16)  # Increase title font size\n",
    "    plt.xlabel(feature, fontsize=14)  # Increase x-axis label font size\n",
    "    plt.ylabel('Frequency', fontsize=14)  # Increase y-axis label font size\n",
    "\n",
    "plt.tight_layout()\n",
    "plt.show()\n",
    "\n",
    "# Correlation matrix for numerical features\n",
    "plt.figure(figsize=(12, 8))\n",
    "corr_matrix = cleaned_df.corr()\n",
    "sns.heatmap(corr_matrix, annot=True, cmap='Blues', fmt='.2f', linewidths=1, cbar_kws={'label': 'Correlation Coefficient'})\n",
    "plt.title('Correlation Matrix of Numerical Features') \n",
    "plt.show()"
   ]
  },
  {
   "cell_type": "markdown",
   "metadata": {},
   "source": [
    "## 2.3 <a id=\"feature_analysis\">Feature Analysis</a> <font size='3'>[[Table of contents🔝]](#index)]<font size>"
   ]
  },
  {
   "cell_type": "markdown",
   "metadata": {},
   "source": [
    "### 2.3.1 Features with the Strongest Correlation with Total Medals Won:\n",
    "\n",
    "- GDP shows a strong positive correlation Total Medals Won (0.83), indicating that countries with higher GDPs tend to win more medals.\n",
    "- Population has a moderate positive correlation (0.41), suggesting some relationship but not as strong as GDP.\n",
    "- The olympics_index has a moderate positive correlation (0.36) with Total Medals Won.\n",
    "- GDP per capita measures (normalized, standardized) show weak positive correlations (0.28) with total medal counts.\n",
    "- The sports_index shows very weak negative correlations (-0.13) total with medal counts.\n",
    "\n",
    "In summary, GDP shows the strongest correlation with Total Medals Won, followed by population to a lesser extent."
   ]
  },
  {
   "cell_type": "markdown",
   "metadata": {},
   "source": [
    "### 2.3.2 Descriptive Statistics of Total Medals Won:"
   ]
  },
  {
   "cell_type": "code",
   "execution_count": 17,
   "metadata": {},
   "outputs": [
    {
     "name": "stdout",
     "output_type": "stream",
     "text": [
      "count     91.000000\n",
      "mean      11.813187\n",
      "std       19.252078\n",
      "min        1.000000\n",
      "25%        2.000000\n",
      "50%        5.000000\n",
      "75%       11.000000\n",
      "max      113.000000\n",
      "Name: total, dtype: float64\n"
     ]
    }
   ],
   "source": [
    "# Descriptive statistics for the 'total' medals column\n",
    "total_medals_stats = cleaned_df['total'].describe()\n",
    "print(total_medals_stats)"
   ]
  },
  {
   "cell_type": "markdown",
   "metadata": {},
   "source": [
    "- Median (50%): 5 medals. This suggests that **more than half of the countries win fewer than 5 medals**.\n",
    "- The difference between the 75% (11 medals) and the 25% (2 medals) is 9 medals, showing that the middle 50% of countries have a **range of medal counts that is quite narrow** compared to the overall range."
   ]
  },
  {
   "cell_type": "markdown",
   "metadata": {},
   "source": [
    "### 2.3.3 Distribution of Total Medals Won:"
   ]
  },
  {
   "cell_type": "code",
   "execution_count": 18,
   "metadata": {},
   "outputs": [
    {
     "data": {
      "image/png": "[encoded data removed]",
      "text/plain": [
       "<Figure size 720x432 with 1 Axes>"
      ]
     },
     "metadata": {
      "needs_background": "light"
     },
     "output_type": "display_data"
    },
    {
     "data": {
      "image/png": "[encoded data removed]",
      "text/plain": [
       "<Figure size 576x288 with 1 Axes>"
      ]
     },
     "metadata": {
      "needs_background": "light"
     },
     "output_type": "display_data"
    }
   ],
   "source": [
    "# Histogram for the distribution of 'total' medals\n",
    "plt.figure(figsize=(10, 6))\n",
    "sns.histplot(cleaned_df['total'], bins=20, kde=True)\n",
    "plt.title('Distribution of Total Medals')\n",
    "plt.xlabel('Total Medals')\n",
    "plt.ylabel('Frequency')\n",
    "plt.show()\n",
    "\n",
    "# Box plot for the 'total' medals column\n",
    "plt.figure(figsize=(8, 4))\n",
    "sns.boxplot(x=cleaned_df['total'])\n",
    "plt.title('Box Plot of Total Medals')\n",
    "plt.xlabel('Total Medals')\n",
    "plt.show()"
   ]
  },
  {
   "cell_type": "markdown",
   "metadata": {},
   "source": [
    "- The histogram shows a **right-skewed distribution**, with most countries winning fewer than 20 medals. A few countries win significantly more, creating a long tail to the right.\n",
    "- The box plot also indicates the **presence of outliers** (countries with exceptionally high medal counts) and a skewed distribution. Most data points are concentrated at the lower end (closer to 0 medals), with a few extreme values far above the median."
   ]
  },
  {
   "cell_type": "markdown",
   "metadata": {},
   "source": [
    "### 2.3.4 Range and Interquartile Range (IQR) of Total Medals Won"
   ]
  },
  {
   "cell_type": "code",
   "execution_count": 19,
   "metadata": {},
   "outputs": [
    {
     "name": "stdout",
     "output_type": "stream",
     "text": [
      "Range of Total Medals: 112\n",
      "Interquartile Range (IQR) of Total Medals: 9.0\n"
     ]
    }
   ],
   "source": [
    "# Calculate range\n",
    "medals_range = cleaned_df['total'].max() - cleaned_df['total'].min()\n",
    "print(f\"Range of Total Medals: {medals_range}\")\n",
    "\n",
    "# Calculate Interquartile Range (IQR)\n",
    "Q1 = cleaned_df['total'].quantile(0.25)\n",
    "Q3 = cleaned_df['total'].quantile(0.75)\n",
    "IQR = Q3 - Q1\n",
    "print(f\"Interquartile Range (IQR) of Total Medals: {IQR}\")"
   ]
  },
  {
   "cell_type": "markdown",
   "metadata": {},
   "source": [
    "- The **IQR being relatively low** compared to the range shows that most of the data is clustered around the lower end of the distribution, with a few extreme values (outliers) stretching the range."
   ]
  },
  {
   "cell_type": "markdown",
   "metadata": {},
   "source": [
    "### 2.3.5 Identify Outliers of Total Medals Won"
   ]
  },
  {
   "cell_type": "code",
   "execution_count": 20,
   "metadata": {},
   "outputs": [
    {
     "name": "stdout",
     "output_type": "stream",
     "text": [
      "Number of Outliers in Total Medals: 10\n"
     ]
    }
   ],
   "source": [
    "# Identify outliers using the IQR method\n",
    "outliers = cleaned_df[(cleaned_df['total'] < (Q1 - 1.5 * IQR)) | (cleaned_df['total'] > (Q3 + 1.5 * IQR))]\n",
    "print(f\"Number of Outliers in Total Medals: {outliers.shape[0]}\")"
   ]
  },
  {
   "cell_type": "markdown",
   "metadata": {},
   "source": [
    "- **10 outliers** identified using the IQR method. These outliers represent countries with an unusually high number of medals, contributing to the right skewness of the distribution."
   ]
  },
  {
   "cell_type": "markdown",
   "metadata": {},
   "source": [
    "### 2.3.6 Check Skewness and Kurtosis"
   ]
  },
  {
   "cell_type": "code",
   "execution_count": 21,
   "metadata": {},
   "outputs": [
    {
     "name": "stdout",
     "output_type": "stream",
     "text": [
      "Skewness of Total Medals: 3.18\n",
      "Kurtosis of Total Medals: 11.31\n"
     ]
    }
   ],
   "source": [
    "# Check skewness and kurtosis\n",
    "skewness = cleaned_df['total'].skew()\n",
    "kurtosis = cleaned_df['total'].kurt()\n",
    "\n",
    "print(f\"Skewness of Total Medals: {skewness:.2f}\")\n",
    "print(f\"Kurtosis of Total Medals: {kurtosis:.2f}\")"
   ]
  },
  {
   "cell_type": "markdown",
   "metadata": {},
   "source": [
    "- Skewness: 3.18. This high positive skewness confirms that the **distribution is heavily skewed to the right**.\n",
    "- Kurtosis: 11.31. A high kurtosis indicates a leptokurtic distribution with heavy tails, meaning there are **more outliers than would be expected in a normal distribution**."
   ]
  },
  {
   "cell_type": "markdown",
   "metadata": {},
   "source": [
    "# 3. <a id=\"machine_learning_models\">Machine Learning Models</a> <font size='3'>[[Table of contents🔝]](#index)]<font size>"
   ]
  },
  {
   "cell_type": "markdown",
   "metadata": {},
   "source": [
    "## 3.1 <a id=\"linear_regression\">Linear Regression</a> <font size='3'>[[Table of contents🔝]](#index)]<font size>"
   ]
  },
  {
   "cell_type": "code",
   "execution_count": 22,
   "metadata": {},
   "outputs": [
    {
     "name": "stdout",
     "output_type": "stream",
     "text": [
      "Linear Regression - Mean Absolute Error (MAE): 5.86\n",
      "Linear Regression - Mean Squared Error (MSE): 81.15\n",
      "Linear Regression - R-squared: 0.30\n"
     ]
    }
   ],
   "source": [
    "from sklearn.model_selection import train_test_split\n",
    "from sklearn.linear_model import LinearRegression\n",
    "from sklearn.metrics import mean_absolute_error, mean_squared_error, r2_score\n",
    "\n",
    "# Select features and target variable\n",
    "X = cleaned_df[['gdp', 'population', 'gdp_per_capita', 'olympics_index']]  # Features\n",
    "y = cleaned_df['total']  # Target variable: total number of medals\n",
    "\n",
    "# Split the dataset into training and testing sets (80% training, 20% testing)\n",
    "X_train, X_test, y_train, y_test = train_test_split(X, y, test_size=0.2, random_state=42)\n",
    "\n",
    "# Initialize and fit the linear regression model\n",
    "model = LinearRegression()\n",
    "model.fit(X_train, y_train)\n",
    "\n",
    "# Make predictions\n",
    "y_pred = model.predict(X_test)\n",
    "\n",
    "# Evaluate the model's performance\n",
    "mae = mean_absolute_error(y_test, y_pred)\n",
    "mse = mean_squared_error(y_test, y_pred)\n",
    "r2 = r2_score(y_test, y_pred)\n",
    "\n",
    "print(f\"Linear Regression - Mean Absolute Error (MAE): {mae:.2f}\")\n",
    "print(f\"Linear Regression - Mean Squared Error (MSE): {mse:.2f}\")\n",
    "print(f\"Linear Regression - R-squared: {r2:.2f}\")"
   ]
  },
  {
   "cell_type": "markdown",
   "metadata": {},
   "source": [
    "### Model Performance Evaluation:\n",
    "\n",
    "- **MAE is 5.86** indicates that the predictions of the total number of medals are off by about 5.86 medals. Considering that the mean number of medals is around 11.81, this error is nearly 50% of the mean, which could be considered significant given the data distribution.\n",
    "\n",
    "- **MSE is 81.15** suggests that the squared differences between predicted and actual values are relatively large. Given the skewed distribution of the medals, this could indicate that the model struggles to predict the total medals accurately for countries with very high or very low medal counts.\n",
    "\n",
    "- **R-squared is 0.30** indicates that the model explains only 30% of the variance in the total number of medals. There might be non-linear relationships or other variables that are not included in the model, which could better explain the variance."
   ]
  },
  {
   "cell_type": "markdown",
   "metadata": {},
   "source": [
    "## 3.2 <a id=\"decision_trees\">Decision Trees</a> <font size='3'>[[Table of contents🔝]](#index)]<font size>"
   ]
  },
  {
   "cell_type": "code",
   "execution_count": 23,
   "metadata": {},
   "outputs": [
    {
     "name": "stdout",
     "output_type": "stream",
     "text": [
      "Decision Tree Regressor - Mean Absolute Error (MAE): 8.74\n",
      "Decision Tree Regressor - Mean Squared Error (MSE): 224.11\n",
      "Decision Tree Regressor - R-squared: -0.94\n"
     ]
    }
   ],
   "source": [
    "from sklearn.model_selection import train_test_split\n",
    "from sklearn.tree import DecisionTreeRegressor\n",
    "from sklearn.metrics import mean_absolute_error, mean_squared_error, r2_score\n",
    "\n",
    "# Select features and target variable\n",
    "X = cleaned_df[['gdp', 'population', 'gdp_per_capita', 'olympics_index']]  # Features\n",
    "y = cleaned_df['total']  # Target variable: total number of medals\n",
    "\n",
    "# Split the dataset into training and testing sets (80% training, 20% testing)\n",
    "X_train, X_test, y_train, y_test = train_test_split(X, y, test_size=0.2, random_state=42)\n",
    "\n",
    "# Initialize and fit the Decision Tree Regressor\n",
    "tree_model = DecisionTreeRegressor(random_state=42)\n",
    "tree_model.fit(X_train, y_train)\n",
    "\n",
    "# Make predictions\n",
    "y_pred_tree = tree_model.predict(X_test)\n",
    "\n",
    "# Evaluate the model's performance\n",
    "mae_tree = mean_absolute_error(y_test, y_pred_tree)\n",
    "mse_tree = mean_squared_error(y_test, y_pred_tree)\n",
    "r2_tree = r2_score(y_test, y_pred_tree)\n",
    "\n",
    "print(f\"Decision Tree Regressor - Mean Absolute Error (MAE): {mae_tree:.2f}\")\n",
    "print(f\"Decision Tree Regressor - Mean Squared Error (MSE): {mse_tree:.2f}\")\n",
    "print(f\"Decision Tree Regressor - R-squared: {r2_tree:.2f}\")\n"
   ]
  },
  {
   "cell_type": "markdown",
   "metadata": {},
   "source": [
    "### Model Performance Evaluation:\n",
    "\n",
    "- **MAE is 8.74** higher than the MAE of 5.86 from the Linear Regression model, suggesting that the Decision Tree model is less accurate in predicting the total number of medals on average.\n",
    "\n",
    "- **MSE is 224.11**  is significantly higher than the MSE of 81.15 from the Linear Regression model indicates that there are some large errors that the model fails to handle well.\n",
    "\n",
    "- **R-squared is -0.94** indicates a very poor fit, a negative R-squared suggests that the model is performing worse than a simple horizontal line (mean of the target values) and is likely overfitting the training data while failing to generalize to the test data."
   ]
  },
  {
   "cell_type": "markdown",
   "metadata": {},
   "source": [
    "## 3.3 <a id=\"random_forest\">Random Forest</a> <font size='3'>[[Table of contents🔝]](#index)]<font size>"
   ]
  },
  {
   "cell_type": "code",
   "execution_count": 24,
   "metadata": {},
   "outputs": [
    {
     "name": "stdout",
     "output_type": "stream",
     "text": [
      "Random Forest Regressor - Mean Absolute Error (MAE): 7.44\n",
      "Random Forest Regressor - Mean Squared Error (MSE): 130.80\n",
      "Random Forest Regressor - R-squared: -0.13\n"
     ]
    }
   ],
   "source": [
    "from sklearn.model_selection import train_test_split\n",
    "from sklearn.ensemble import RandomForestRegressor\n",
    "from sklearn.metrics import mean_absolute_error, mean_squared_error, r2_score\n",
    "\n",
    "# Select features and target variable\n",
    "X = cleaned_df[['gdp', 'population', 'gdp_per_capita', 'olympics_index']]  # Features\n",
    "y = cleaned_df['total']  # Target variable: total number of medals\n",
    "\n",
    "# Split the dataset into training and testing sets (80% training, 20% testing)\n",
    "X_train, X_test, y_train, y_test = train_test_split(X, y, test_size=0.2, random_state=42)\n",
    "\n",
    "# Initialize and fit the Random Forest Regressor\n",
    "rf_model = RandomForestRegressor(n_estimators=100, random_state=42)\n",
    "rf_model.fit(X_train, y_train)\n",
    "\n",
    "# Make predictions\n",
    "y_pred_rf = rf_model.predict(X_test)\n",
    "\n",
    "# Evaluate the model's performance\n",
    "mae_rf = mean_absolute_error(y_test, y_pred_rf)\n",
    "mse_rf = mean_squared_error(y_test, y_pred_rf)\n",
    "r2_rf = r2_score(y_test, y_pred_rf)\n",
    "\n",
    "print(f\"Random Forest Regressor - Mean Absolute Error (MAE): {mae_rf:.2f}\")\n",
    "print(f\"Random Forest Regressor - Mean Squared Error (MSE): {mse_rf:.2f}\")\n",
    "print(f\"Random Forest Regressor - R-squared: {r2_rf:.2f}\")"
   ]
  },
  {
   "cell_type": "markdown",
   "metadata": {},
   "source": [
    "### Model Performance Evaluation:\n",
    "\n",
    "- **MAE is 7.44** slightly better than the Decision Tree Regressor's MAE of 8.74 but still higher than the Linear Regression model's MAE of 5.86, it is still not the most accurate among the models tested.\n",
    "\n",
    "- **MSE is 130.80** lower than the Decision Tree Regressor's MSE of 224.11 but higher than the Linear Regression model's MSE of 81.15, it is still not performing as well as the Linear Regression model in terms of overall squared error.\n",
    "\n",
    "- **R-squared is -0.13** suggests that the model is performing worse than a horizontal line (mean of the target values). The negative R-squared suggests that the Random Forest model, like the Decision Tree, fails to generalize well to the test data."
   ]
  },
  {
   "cell_type": "markdown",
   "metadata": {},
   "source": [
    "# 4. <a id=\"deep_learning_models\">Deep Learning Models</a> <font size='3'>[[Table of contents🔝]](#index)]<font size>"
   ]
  },
  {
   "cell_type": "markdown",
   "metadata": {},
   "source": [
    "## 4.1 <a id=\"neural_network\">Neural Network</a> <font size='3'>[[Table of contents🔝]](#index)]<font size>"
   ]
  },
  {
   "cell_type": "code",
   "execution_count": 25,
   "metadata": {},
   "outputs": [
    {
     "name": "stdout",
     "output_type": "stream",
     "text": [
      "Training model with 1 layers, 32 neurons, learning rate 0.01, 40 epochs, batch size 8\n",
      "\u001b[1m1/1\u001b[0m \u001b[32m━━━━━━━━━━━━━━━━━━━━\u001b[0m\u001b[37m\u001b[0m \u001b[1m0s\u001b[0m 79ms/step\n",
      "Training model with 1 layers, 32 neurons, learning rate 0.01, 40 epochs, batch size 16\n",
      "\u001b[1m1/1\u001b[0m \u001b[32m━━━━━━━━━━━━━━━━━━━━\u001b[0m\u001b[37m\u001b[0m \u001b[1m0s\u001b[0m 48ms/step\n",
      "Training model with 1 layers, 32 neurons, learning rate 0.01, 100 epochs, batch size 8\n",
      "\u001b[1m1/1\u001b[0m \u001b[32m━━━━━━━━━━━━━━━━━━━━\u001b[0m\u001b[37m\u001b[0m \u001b[1m0s\u001b[0m 68ms/step\n",
      "Training model with 1 layers, 32 neurons, learning rate 0.01, 100 epochs, batch size 16\n",
      "\u001b[1m1/1\u001b[0m \u001b[32m━━━━━━━━━━━━━━━━━━━━\u001b[0m\u001b[37m\u001b[0m \u001b[1m0s\u001b[0m 63ms/step\n",
      "Training model with 1 layers, 32 neurons, learning rate 0.001, 40 epochs, batch size 8\n",
      "WARNING:tensorflow:5 out of the last 5 calls to <function TensorFlowTrainer.make_predict_function.<locals>.one_step_on_data_distributed at 0x0000021AFAC63670> triggered tf.function retracing. Tracing is expensive and the excessive number of tracings could be due to (1) creating @tf.function repeatedly in a loop, (2) passing tensors with different shapes, (3) passing Python objects instead of tensors. For (1), please define your @tf.function outside of the loop. For (2), @tf.function has reduce_retracing=True option that can avoid unnecessary retracing. For (3), please refer to https://www.tensorflow.org/guide/function#controlling_retracing and https://www.tensorflow.org/api_docs/python/tf/function for  more details.\n",
      "\u001b[1m1/1\u001b[0m \u001b[32m━━━━━━━━━━━━━━━━━━━━\u001b[0m\u001b[37m\u001b[0m \u001b[1m0s\u001b[0m 89ms/step\n",
      "Training model with 1 layers, 32 neurons, learning rate 0.001, 40 epochs, batch size 16\n",
      "WARNING:tensorflow:6 out of the last 6 calls to <function TensorFlowTrainer.make_predict_function.<locals>.one_step_on_data_distributed at 0x0000021AFB561CA0> triggered tf.function retracing. Tracing is expensive and the excessive number of tracings could be due to (1) creating @tf.function repeatedly in a loop, (2) passing tensors with different shapes, (3) passing Python objects instead of tensors. For (1), please define your @tf.function outside of the loop. For (2), @tf.function has reduce_retracing=True option that can avoid unnecessary retracing. For (3), please refer to https://www.tensorflow.org/guide/function#controlling_retracing and https://www.tensorflow.org/api_docs/python/tf/function for  more details.\n",
      "\u001b[1m1/1\u001b[0m \u001b[32m━━━━━━━━━━━━━━━━━━━━\u001b[0m\u001b[37m\u001b[0m \u001b[1m0s\u001b[0m 50ms/step\n",
      "Training model with 1 layers, 32 neurons, learning rate 0.001, 100 epochs, batch size 8\n",
      "\u001b[1m1/1\u001b[0m \u001b[32m━━━━━━━━━━━━━━━━━━━━\u001b[0m\u001b[37m\u001b[0m \u001b[1m0s\u001b[0m 47ms/step\n",
      "Training model with 1 layers, 32 neurons, learning rate 0.001, 100 epochs, batch size 16\n",
      "\u001b[1m1/1\u001b[0m \u001b[32m━━━━━━━━━━━━━━━━━━━━\u001b[0m\u001b[37m\u001b[0m \u001b[1m0s\u001b[0m 47ms/step\n",
      "Training model with 1 layers, 32 neurons, learning rate 0.0001, 40 epochs, batch size 8\n",
      "\u001b[1m1/1\u001b[0m \u001b[32m━━━━━━━━━━━━━━━━━━━━\u001b[0m\u001b[37m\u001b[0m \u001b[1m0s\u001b[0m 69ms/step\n",
      "Training model with 1 layers, 32 neurons, learning rate 0.0001, 40 epochs, batch size 16\n",
      "\u001b[1m1/1\u001b[0m \u001b[32m━━━━━━━━━━━━━━━━━━━━\u001b[0m\u001b[37m\u001b[0m \u001b[1m0s\u001b[0m 47ms/step\n",
      "Training model with 1 layers, 32 neurons, learning rate 0.0001, 100 epochs, batch size 8\n",
      "\u001b[1m1/1\u001b[0m \u001b[32m━━━━━━━━━━━━━━━━━━━━\u001b[0m\u001b[37m\u001b[0m \u001b[1m0s\u001b[0m 48ms/step\n",
      "Training model with 1 layers, 32 neurons, learning rate 0.0001, 100 epochs, batch size 16\n",
      "\u001b[1m1/1\u001b[0m \u001b[32m━━━━━━━━━━━━━━━━━━━━\u001b[0m\u001b[37m\u001b[0m \u001b[1m0s\u001b[0m 53ms/step\n",
      "Training model with 1 layers, 64 neurons, learning rate 0.01, 40 epochs, batch size 8\n",
      "\u001b[1m1/1\u001b[0m \u001b[32m━━━━━━━━━━━━━━━━━━━━\u001b[0m\u001b[37m\u001b[0m \u001b[1m0s\u001b[0m 63ms/step\n",
      "Training model with 1 layers, 64 neurons, learning rate 0.01, 40 epochs, batch size 16\n",
      "\u001b[1m1/1\u001b[0m \u001b[32m━━━━━━━━━━━━━━━━━━━━\u001b[0m\u001b[37m\u001b[0m \u001b[1m0s\u001b[0m 31ms/step\n",
      "Training model with 1 layers, 64 neurons, learning rate 0.01, 100 epochs, batch size 8\n",
      "\u001b[1m1/1\u001b[0m \u001b[32m━━━━━━━━━━━━━━━━━━━━\u001b[0m\u001b[37m\u001b[0m \u001b[1m0s\u001b[0m 48ms/step\n",
      "Training model with 1 layers, 64 neurons, learning rate 0.01, 100 epochs, batch size 16\n",
      "\u001b[1m1/1\u001b[0m \u001b[32m━━━━━━━━━━━━━━━━━━━━\u001b[0m\u001b[37m\u001b[0m \u001b[1m0s\u001b[0m 31ms/step\n",
      "Training model with 1 layers, 64 neurons, learning rate 0.001, 40 epochs, batch size 8\n",
      "\u001b[1m1/1\u001b[0m \u001b[32m━━━━━━━━━━━━━━━━━━━━\u001b[0m\u001b[37m\u001b[0m \u001b[1m0s\u001b[0m 64ms/step\n",
      "Training model with 1 layers, 64 neurons, learning rate 0.001, 40 epochs, batch size 16\n",
      "\u001b[1m1/1\u001b[0m \u001b[32m━━━━━━━━━━━━━━━━━━━━\u001b[0m\u001b[37m\u001b[0m \u001b[1m0s\u001b[0m 63ms/step\n",
      "Training model with 1 layers, 64 neurons, learning rate 0.001, 100 epochs, batch size 8\n",
      "\u001b[1m1/1\u001b[0m \u001b[32m━━━━━━━━━━━━━━━━━━━━\u001b[0m\u001b[37m\u001b[0m \u001b[1m0s\u001b[0m 32ms/step\n",
      "Training model with 1 layers, 64 neurons, learning rate 0.001, 100 epochs, batch size 16\n",
      "\u001b[1m1/1\u001b[0m \u001b[32m━━━━━━━━━━━━━━━━━━━━\u001b[0m\u001b[37m\u001b[0m \u001b[1m0s\u001b[0m 42ms/step\n",
      "Training model with 1 layers, 64 neurons, learning rate 0.0001, 40 epochs, batch size 8\n",
      "\u001b[1m1/1\u001b[0m \u001b[32m━━━━━━━━━━━━━━━━━━━━\u001b[0m\u001b[37m\u001b[0m \u001b[1m0s\u001b[0m 41ms/step\n",
      "Training model with 1 layers, 64 neurons, learning rate 0.0001, 40 epochs, batch size 16\n",
      "\u001b[1m1/1\u001b[0m \u001b[32m━━━━━━━━━━━━━━━━━━━━\u001b[0m\u001b[37m\u001b[0m \u001b[1m0s\u001b[0m 53ms/step\n",
      "Training model with 1 layers, 64 neurons, learning rate 0.0001, 100 epochs, batch size 8\n",
      "\u001b[1m1/1\u001b[0m \u001b[32m━━━━━━━━━━━━━━━━━━━━\u001b[0m\u001b[37m\u001b[0m \u001b[1m0s\u001b[0m 78ms/step\n",
      "Training model with 1 layers, 64 neurons, learning rate 0.0001, 100 epochs, batch size 16\n",
      "\u001b[1m1/1\u001b[0m \u001b[32m━━━━━━━━━━━━━━━━━━━━\u001b[0m\u001b[37m\u001b[0m \u001b[1m0s\u001b[0m 79ms/step\n",
      "Training model with 1 layers, 128 neurons, learning rate 0.01, 40 epochs, batch size 8\n",
      "\u001b[1m1/1\u001b[0m \u001b[32m━━━━━━━━━━━━━━━━━━━━\u001b[0m\u001b[37m\u001b[0m \u001b[1m0s\u001b[0m 69ms/step\n",
      "Training model with 1 layers, 128 neurons, learning rate 0.01, 40 epochs, batch size 16\n",
      "\u001b[1m1/1\u001b[0m \u001b[32m━━━━━━━━━━━━━━━━━━━━\u001b[0m\u001b[37m\u001b[0m \u001b[1m0s\u001b[0m 31ms/step\n",
      "Training model with 1 layers, 128 neurons, learning rate 0.01, 100 epochs, batch size 8\n",
      "\u001b[1m1/1\u001b[0m \u001b[32m━━━━━━━━━━━━━━━━━━━━\u001b[0m\u001b[37m\u001b[0m \u001b[1m0s\u001b[0m 63ms/step\n",
      "Training model with 1 layers, 128 neurons, learning rate 0.01, 100 epochs, batch size 16\n",
      "\u001b[1m1/1\u001b[0m \u001b[32m━━━━━━━━━━━━━━━━━━━━\u001b[0m\u001b[37m\u001b[0m \u001b[1m0s\u001b[0m 63ms/step\n",
      "Training model with 1 layers, 128 neurons, learning rate 0.001, 40 epochs, batch size 8\n",
      "\u001b[1m1/1\u001b[0m \u001b[32m━━━━━━━━━━━━━━━━━━━━\u001b[0m\u001b[37m\u001b[0m \u001b[1m0s\u001b[0m 63ms/step\n",
      "Training model with 1 layers, 128 neurons, learning rate 0.001, 40 epochs, batch size 16\n",
      "\u001b[1m1/1\u001b[0m \u001b[32m━━━━━━━━━━━━━━━━━━━━\u001b[0m\u001b[37m\u001b[0m \u001b[1m0s\u001b[0m 47ms/step\n",
      "Training model with 1 layers, 128 neurons, learning rate 0.001, 100 epochs, batch size 8\n",
      "\u001b[1m1/1\u001b[0m \u001b[32m━━━━━━━━━━━━━━━━━━━━\u001b[0m\u001b[37m\u001b[0m \u001b[1m0s\u001b[0m 47ms/step\n",
      "Training model with 1 layers, 128 neurons, learning rate 0.001, 100 epochs, batch size 16\n",
      "\u001b[1m1/1\u001b[0m \u001b[32m━━━━━━━━━━━━━━━━━━━━\u001b[0m\u001b[37m\u001b[0m \u001b[1m0s\u001b[0m 63ms/step\n",
      "Training model with 1 layers, 128 neurons, learning rate 0.0001, 40 epochs, batch size 8\n",
      "\u001b[1m1/1\u001b[0m \u001b[32m━━━━━━━━━━━━━━━━━━━━\u001b[0m\u001b[37m\u001b[0m \u001b[1m0s\u001b[0m 32ms/step\n",
      "Training model with 1 layers, 128 neurons, learning rate 0.0001, 40 epochs, batch size 16\n",
      "\u001b[1m1/1\u001b[0m \u001b[32m━━━━━━━━━━━━━━━━━━━━\u001b[0m\u001b[37m\u001b[0m \u001b[1m0s\u001b[0m 47ms/step\n",
      "Training model with 1 layers, 128 neurons, learning rate 0.0001, 100 epochs, batch size 8\n",
      "\u001b[1m1/1\u001b[0m \u001b[32m━━━━━━━━━━━━━━━━━━━━\u001b[0m\u001b[37m\u001b[0m \u001b[1m0s\u001b[0m 47ms/step\n",
      "Training model with 1 layers, 128 neurons, learning rate 0.0001, 100 epochs, batch size 16\n",
      "\u001b[1m1/1\u001b[0m \u001b[32m━━━━━━━━━━━━━━━━━━━━\u001b[0m\u001b[37m\u001b[0m \u001b[1m0s\u001b[0m 48ms/step\n",
      "Training model with 2 layers, 32 neurons, learning rate 0.01, 40 epochs, batch size 8\n",
      "\u001b[1m1/1\u001b[0m \u001b[32m━━━━━━━━━━━━━━━━━━━━\u001b[0m\u001b[37m\u001b[0m \u001b[1m0s\u001b[0m 37ms/step\n",
      "Training model with 2 layers, 32 neurons, learning rate 0.01, 40 epochs, batch size 16\n",
      "\u001b[1m1/1\u001b[0m \u001b[32m━━━━━━━━━━━━━━━━━━━━\u001b[0m\u001b[37m\u001b[0m \u001b[1m0s\u001b[0m 47ms/step\n",
      "Training model with 2 layers, 32 neurons, learning rate 0.01, 100 epochs, batch size 8\n",
      "\u001b[1m1/1\u001b[0m \u001b[32m━━━━━━━━━━━━━━━━━━━━\u001b[0m\u001b[37m\u001b[0m \u001b[1m0s\u001b[0m 31ms/step\n",
      "Training model with 2 layers, 32 neurons, learning rate 0.01, 100 epochs, batch size 16\n",
      "\u001b[1m1/1\u001b[0m \u001b[32m━━━━━━━━━━━━━━━━━━━━\u001b[0m\u001b[37m\u001b[0m \u001b[1m1s\u001b[0m 546ms/step\n",
      "Training model with 2 layers, 32 neurons, learning rate 0.001, 40 epochs, batch size 8\n",
      "\u001b[1m1/1\u001b[0m \u001b[32m━━━━━━━━━━━━━━━━━━━━\u001b[0m\u001b[37m\u001b[0m \u001b[1m0s\u001b[0m 95ms/step\n",
      "Training model with 2 layers, 32 neurons, learning rate 0.001, 40 epochs, batch size 16\n",
      "\u001b[1m1/1\u001b[0m \u001b[32m━━━━━━━━━━━━━━━━━━━━\u001b[0m\u001b[37m\u001b[0m \u001b[1m0s\u001b[0m 47ms/step\n",
      "Training model with 2 layers, 32 neurons, learning rate 0.001, 100 epochs, batch size 8\n"
     ]
    },
    {
     "name": "stdout",
     "output_type": "stream",
     "text": [
      "\u001b[1m1/1\u001b[0m \u001b[32m━━━━━━━━━━━━━━━━━━━━\u001b[0m\u001b[37m\u001b[0m \u001b[1m0s\u001b[0m 79ms/step\n",
      "Training model with 2 layers, 32 neurons, learning rate 0.001, 100 epochs, batch size 16\n",
      "\u001b[1m1/1\u001b[0m \u001b[32m━━━━━━━━━━━━━━━━━━━━\u001b[0m\u001b[37m\u001b[0m \u001b[1m0s\u001b[0m 63ms/step\n",
      "Training model with 2 layers, 32 neurons, learning rate 0.0001, 40 epochs, batch size 8\n",
      "\u001b[1m1/1\u001b[0m \u001b[32m━━━━━━━━━━━━━━━━━━━━\u001b[0m\u001b[37m\u001b[0m \u001b[1m0s\u001b[0m 57ms/step\n",
      "Training model with 2 layers, 32 neurons, learning rate 0.0001, 40 epochs, batch size 16\n",
      "\u001b[1m1/1\u001b[0m \u001b[32m━━━━━━━━━━━━━━━━━━━━\u001b[0m\u001b[37m\u001b[0m \u001b[1m0s\u001b[0m 63ms/step\n",
      "Training model with 2 layers, 32 neurons, learning rate 0.0001, 100 epochs, batch size 8\n",
      "\u001b[1m1/1\u001b[0m \u001b[32m━━━━━━━━━━━━━━━━━━━━\u001b[0m\u001b[37m\u001b[0m \u001b[1m0s\u001b[0m 47ms/step\n",
      "Training model with 2 layers, 32 neurons, learning rate 0.0001, 100 epochs, batch size 16\n",
      "\u001b[1m1/1\u001b[0m \u001b[32m━━━━━━━━━━━━━━━━━━━━\u001b[0m\u001b[37m\u001b[0m \u001b[1m0s\u001b[0m 63ms/step\n",
      "Training model with 2 layers, 64 neurons, learning rate 0.01, 40 epochs, batch size 8\n",
      "\u001b[1m1/1\u001b[0m \u001b[32m━━━━━━━━━━━━━━━━━━━━\u001b[0m\u001b[37m\u001b[0m \u001b[1m0s\u001b[0m 31ms/step\n",
      "Training model with 2 layers, 64 neurons, learning rate 0.01, 40 epochs, batch size 16\n",
      "\u001b[1m1/1\u001b[0m \u001b[32m━━━━━━━━━━━━━━━━━━━━\u001b[0m\u001b[37m\u001b[0m \u001b[1m0s\u001b[0m 84ms/step\n",
      "Training model with 2 layers, 64 neurons, learning rate 0.01, 100 epochs, batch size 8\n",
      "\u001b[1m1/1\u001b[0m \u001b[32m━━━━━━━━━━━━━━━━━━━━\u001b[0m\u001b[37m\u001b[0m \u001b[1m0s\u001b[0m 48ms/step\n",
      "Training model with 2 layers, 64 neurons, learning rate 0.01, 100 epochs, batch size 16\n",
      "\u001b[1m1/1\u001b[0m \u001b[32m━━━━━━━━━━━━━━━━━━━━\u001b[0m\u001b[37m\u001b[0m \u001b[1m0s\u001b[0m 53ms/step\n",
      "Training model with 2 layers, 64 neurons, learning rate 0.001, 40 epochs, batch size 8\n",
      "\u001b[1m1/1\u001b[0m \u001b[32m━━━━━━━━━━━━━━━━━━━━\u001b[0m\u001b[37m\u001b[0m \u001b[1m0s\u001b[0m 63ms/step\n",
      "Training model with 2 layers, 64 neurons, learning rate 0.001, 40 epochs, batch size 16\n",
      "\u001b[1m1/1\u001b[0m \u001b[32m━━━━━━━━━━━━━━━━━━━━\u001b[0m\u001b[37m\u001b[0m \u001b[1m0s\u001b[0m 37ms/step\n",
      "Training model with 2 layers, 64 neurons, learning rate 0.001, 100 epochs, batch size 8\n",
      "\u001b[1m1/1\u001b[0m \u001b[32m━━━━━━━━━━━━━━━━━━━━\u001b[0m\u001b[37m\u001b[0m \u001b[1m0s\u001b[0m 63ms/step\n",
      "Training model with 2 layers, 64 neurons, learning rate 0.001, 100 epochs, batch size 16\n",
      "\u001b[1m1/1\u001b[0m \u001b[32m━━━━━━━━━━━━━━━━━━━━\u001b[0m\u001b[37m\u001b[0m \u001b[1m0s\u001b[0m 32ms/step\n",
      "Training model with 2 layers, 64 neurons, learning rate 0.0001, 40 epochs, batch size 8\n",
      "\u001b[1m1/1\u001b[0m \u001b[32m━━━━━━━━━━━━━━━━━━━━\u001b[0m\u001b[37m\u001b[0m \u001b[1m0s\u001b[0m 47ms/step\n",
      "Training model with 2 layers, 64 neurons, learning rate 0.0001, 40 epochs, batch size 16\n",
      "\u001b[1m1/1\u001b[0m \u001b[32m━━━━━━━━━━━━━━━━━━━━\u001b[0m\u001b[37m\u001b[0m \u001b[1m0s\u001b[0m 47ms/step\n",
      "Training model with 2 layers, 64 neurons, learning rate 0.0001, 100 epochs, batch size 8\n",
      "\u001b[1m1/1\u001b[0m \u001b[32m━━━━━━━━━━━━━━━━━━━━\u001b[0m\u001b[37m\u001b[0m \u001b[1m0s\u001b[0m 48ms/step\n",
      "Training model with 2 layers, 64 neurons, learning rate 0.0001, 100 epochs, batch size 16\n",
      "\u001b[1m1/1\u001b[0m \u001b[32m━━━━━━━━━━━━━━━━━━━━\u001b[0m\u001b[37m\u001b[0m \u001b[1m0s\u001b[0m 95ms/step\n",
      "Training model with 2 layers, 128 neurons, learning rate 0.01, 40 epochs, batch size 8\n",
      "\u001b[1m1/1\u001b[0m \u001b[32m━━━━━━━━━━━━━━━━━━━━\u001b[0m\u001b[37m\u001b[0m \u001b[1m0s\u001b[0m 57ms/step\n",
      "Training model with 2 layers, 128 neurons, learning rate 0.01, 40 epochs, batch size 16\n",
      "\u001b[1m1/1\u001b[0m \u001b[32m━━━━━━━━━━━━━━━━━━━━\u001b[0m\u001b[37m\u001b[0m \u001b[1m0s\u001b[0m 94ms/step\n",
      "Training model with 2 layers, 128 neurons, learning rate 0.01, 100 epochs, batch size 8\n",
      "\u001b[1m1/1\u001b[0m \u001b[32m━━━━━━━━━━━━━━━━━━━━\u001b[0m\u001b[37m\u001b[0m \u001b[1m0s\u001b[0m 78ms/step\n",
      "Training model with 2 layers, 128 neurons, learning rate 0.01, 100 epochs, batch size 16\n",
      "\u001b[1m1/1\u001b[0m \u001b[32m━━━━━━━━━━━━━━━━━━━━\u001b[0m\u001b[37m\u001b[0m \u001b[1m0s\u001b[0m 63ms/step\n",
      "Training model with 2 layers, 128 neurons, learning rate 0.001, 40 epochs, batch size 8\n",
      "\u001b[1m1/1\u001b[0m \u001b[32m━━━━━━━━━━━━━━━━━━━━\u001b[0m\u001b[37m\u001b[0m \u001b[1m0s\u001b[0m 47ms/step\n",
      "Training model with 2 layers, 128 neurons, learning rate 0.001, 40 epochs, batch size 16\n",
      "\u001b[1m1/1\u001b[0m \u001b[32m━━━━━━━━━━━━━━━━━━━━\u001b[0m\u001b[37m\u001b[0m \u001b[1m0s\u001b[0m 63ms/step\n",
      "Training model with 2 layers, 128 neurons, learning rate 0.001, 100 epochs, batch size 8\n",
      "\u001b[1m1/1\u001b[0m \u001b[32m━━━━━━━━━━━━━━━━━━━━\u001b[0m\u001b[37m\u001b[0m \u001b[1m0s\u001b[0m 37ms/step\n",
      "Training model with 2 layers, 128 neurons, learning rate 0.001, 100 epochs, batch size 16\n",
      "\u001b[1m1/1\u001b[0m \u001b[32m━━━━━━━━━━━━━━━━━━━━\u001b[0m\u001b[37m\u001b[0m \u001b[1m0s\u001b[0m 84ms/step\n",
      "Training model with 2 layers, 128 neurons, learning rate 0.0001, 40 epochs, batch size 8\n",
      "\u001b[1m1/1\u001b[0m \u001b[32m━━━━━━━━━━━━━━━━━━━━\u001b[0m\u001b[37m\u001b[0m \u001b[1m0s\u001b[0m 64ms/step\n",
      "Training model with 2 layers, 128 neurons, learning rate 0.0001, 40 epochs, batch size 16\n",
      "\u001b[1m1/1\u001b[0m \u001b[32m━━━━━━━━━━━━━━━━━━━━\u001b[0m\u001b[37m\u001b[0m \u001b[1m0s\u001b[0m 47ms/step\n",
      "Training model with 2 layers, 128 neurons, learning rate 0.0001, 100 epochs, batch size 8\n",
      "\u001b[1m1/1\u001b[0m \u001b[32m━━━━━━━━━━━━━━━━━━━━\u001b[0m\u001b[37m\u001b[0m \u001b[1m0s\u001b[0m 47ms/step\n",
      "Training model with 2 layers, 128 neurons, learning rate 0.0001, 100 epochs, batch size 16\n",
      "\u001b[1m1/1\u001b[0m \u001b[32m━━━━━━━━━━━━━━━━━━━━\u001b[0m\u001b[37m\u001b[0m \u001b[1m0s\u001b[0m 47ms/step\n",
      "Training model with 3 layers, 32 neurons, learning rate 0.01, 40 epochs, batch size 8\n",
      "\u001b[1m1/1\u001b[0m \u001b[32m━━━━━━━━━━━━━━━━━━━━\u001b[0m\u001b[37m\u001b[0m \u001b[1m0s\u001b[0m 47ms/step\n",
      "Training model with 3 layers, 32 neurons, learning rate 0.01, 40 epochs, batch size 16\n",
      "\u001b[1m1/1\u001b[0m \u001b[32m━━━━━━━━━━━━━━━━━━━━\u001b[0m\u001b[37m\u001b[0m \u001b[1m0s\u001b[0m 100ms/step\n",
      "Training model with 3 layers, 32 neurons, learning rate 0.01, 100 epochs, batch size 8\n",
      "\u001b[1m1/1\u001b[0m \u001b[32m━━━━━━━━━━━━━━━━━━━━\u001b[0m\u001b[37m\u001b[0m \u001b[1m0s\u001b[0m 47ms/step\n",
      "Training model with 3 layers, 32 neurons, learning rate 0.01, 100 epochs, batch size 16\n",
      "\u001b[1m1/1\u001b[0m \u001b[32m━━━━━━━━━━━━━━━━━━━━\u001b[0m\u001b[37m\u001b[0m \u001b[1m0s\u001b[0m 110ms/step\n",
      "Training model with 3 layers, 32 neurons, learning rate 0.001, 40 epochs, batch size 8\n",
      "\u001b[1m1/1\u001b[0m \u001b[32m━━━━━━━━━━━━━━━━━━━━\u001b[0m\u001b[37m\u001b[0m \u001b[1m0s\u001b[0m 63ms/step\n",
      "Training model with 3 layers, 32 neurons, learning rate 0.001, 40 epochs, batch size 16\n",
      "\u001b[1m1/1\u001b[0m \u001b[32m━━━━━━━━━━━━━━━━━━━━\u001b[0m\u001b[37m\u001b[0m \u001b[1m0s\u001b[0m 47ms/step\n",
      "Training model with 3 layers, 32 neurons, learning rate 0.001, 100 epochs, batch size 8\n",
      "\u001b[1m1/1\u001b[0m \u001b[32m━━━━━━━━━━━━━━━━━━━━\u001b[0m\u001b[37m\u001b[0m \u001b[1m0s\u001b[0m 47ms/step\n",
      "Training model with 3 layers, 32 neurons, learning rate 0.001, 100 epochs, batch size 16\n",
      "\u001b[1m1/1\u001b[0m \u001b[32m━━━━━━━━━━━━━━━━━━━━\u001b[0m\u001b[37m\u001b[0m \u001b[1m0s\u001b[0m 48ms/step\n",
      "Training model with 3 layers, 32 neurons, learning rate 0.0001, 40 epochs, batch size 8\n",
      "\u001b[1m1/1\u001b[0m \u001b[32m━━━━━━━━━━━━━━━━━━━━\u001b[0m\u001b[37m\u001b[0m \u001b[1m0s\u001b[0m 99ms/step\n",
      "Training model with 3 layers, 32 neurons, learning rate 0.0001, 40 epochs, batch size 16\n",
      "\u001b[1m1/1\u001b[0m \u001b[32m━━━━━━━━━━━━━━━━━━━━\u001b[0m\u001b[37m\u001b[0m \u001b[1m0s\u001b[0m 63ms/step\n",
      "Training model with 3 layers, 32 neurons, learning rate 0.0001, 100 epochs, batch size 8\n",
      "\u001b[1m1/1\u001b[0m \u001b[32m━━━━━━━━━━━━━━━━━━━━\u001b[0m\u001b[37m\u001b[0m \u001b[1m0s\u001b[0m 47ms/step\n",
      "Training model with 3 layers, 32 neurons, learning rate 0.0001, 100 epochs, batch size 16\n",
      "\u001b[1m1/1\u001b[0m \u001b[32m━━━━━━━━━━━━━━━━━━━━\u001b[0m\u001b[37m\u001b[0m \u001b[1m0s\u001b[0m 63ms/step\n",
      "Training model with 3 layers, 64 neurons, learning rate 0.01, 40 epochs, batch size 8\n",
      "\u001b[1m1/1\u001b[0m \u001b[32m━━━━━━━━━━━━━━━━━━━━\u001b[0m\u001b[37m\u001b[0m \u001b[1m0s\u001b[0m 65ms/step\n",
      "Training model with 3 layers, 64 neurons, learning rate 0.01, 40 epochs, batch size 16\n",
      "\u001b[1m1/1\u001b[0m \u001b[32m━━━━━━━━━━━━━━━━━━━━\u001b[0m\u001b[37m\u001b[0m \u001b[1m0s\u001b[0m 63ms/step\n",
      "Training model with 3 layers, 64 neurons, learning rate 0.01, 100 epochs, batch size 8\n",
      "\u001b[1m1/1\u001b[0m \u001b[32m━━━━━━━━━━━━━━━━━━━━\u001b[0m\u001b[37m\u001b[0m \u001b[1m0s\u001b[0m 47ms/step\n",
      "Training model with 3 layers, 64 neurons, learning rate 0.01, 100 epochs, batch size 16\n",
      "\u001b[1m1/1\u001b[0m \u001b[32m━━━━━━━━━━━━━━━━━━━━\u001b[0m\u001b[37m\u001b[0m \u001b[1m0s\u001b[0m 47ms/step\n",
      "Training model with 3 layers, 64 neurons, learning rate 0.001, 40 epochs, batch size 8\n",
      "\u001b[1m1/1\u001b[0m \u001b[32m━━━━━━━━━━━━━━━━━━━━\u001b[0m\u001b[37m\u001b[0m \u001b[1m0s\u001b[0m 63ms/step\n",
      "Training model with 3 layers, 64 neurons, learning rate 0.001, 40 epochs, batch size 16\n",
      "\u001b[1m1/1\u001b[0m \u001b[32m━━━━━━━━━━━━━━━━━━━━\u001b[0m\u001b[37m\u001b[0m \u001b[1m0s\u001b[0m 84ms/step\n",
      "Training model with 3 layers, 64 neurons, learning rate 0.001, 100 epochs, batch size 8\n",
      "\u001b[1m1/1\u001b[0m \u001b[32m━━━━━━━━━━━━━━━━━━━━\u001b[0m\u001b[37m\u001b[0m \u001b[1m0s\u001b[0m 73ms/step\n",
      "Training model with 3 layers, 64 neurons, learning rate 0.001, 100 epochs, batch size 16\n",
      "\u001b[1m1/1\u001b[0m \u001b[32m━━━━━━━━━━━━━━━━━━━━\u001b[0m\u001b[37m\u001b[0m \u001b[1m0s\u001b[0m 48ms/step\n",
      "Training model with 3 layers, 64 neurons, learning rate 0.0001, 40 epochs, batch size 8\n",
      "\u001b[1m1/1\u001b[0m \u001b[32m━━━━━━━━━━━━━━━━━━━━\u001b[0m\u001b[37m\u001b[0m \u001b[1m0s\u001b[0m 48ms/step\n",
      "Training model with 3 layers, 64 neurons, learning rate 0.0001, 40 epochs, batch size 16\n",
      "\u001b[1m1/1\u001b[0m \u001b[32m━━━━━━━━━━━━━━━━━━━━\u001b[0m\u001b[37m\u001b[0m \u001b[1m0s\u001b[0m 63ms/step\n",
      "Training model with 3 layers, 64 neurons, learning rate 0.0001, 100 epochs, batch size 8\n",
      "\u001b[1m1/1\u001b[0m \u001b[32m━━━━━━━━━━━━━━━━━━━━\u001b[0m\u001b[37m\u001b[0m \u001b[1m0s\u001b[0m 63ms/step\n",
      "Training model with 3 layers, 64 neurons, learning rate 0.0001, 100 epochs, batch size 16\n",
      "\u001b[1m1/1\u001b[0m \u001b[32m━━━━━━━━━━━━━━━━━━━━\u001b[0m\u001b[37m\u001b[0m \u001b[1m0s\u001b[0m 63ms/step\n",
      "Training model with 3 layers, 128 neurons, learning rate 0.01, 40 epochs, batch size 8\n",
      "\u001b[1m1/1\u001b[0m \u001b[32m━━━━━━━━━━━━━━━━━━━━\u001b[0m\u001b[37m\u001b[0m \u001b[1m1s\u001b[0m 881ms/step\n",
      "Training model with 3 layers, 128 neurons, learning rate 0.01, 40 epochs, batch size 16\n",
      "\u001b[1m1/1\u001b[0m \u001b[32m━━━━━━━━━━━━━━━━━━━━\u001b[0m\u001b[37m\u001b[0m \u001b[1m0s\u001b[0m 63ms/step\n",
      "Training model with 3 layers, 128 neurons, learning rate 0.01, 100 epochs, batch size 8\n",
      "\u001b[1m1/1\u001b[0m \u001b[32m━━━━━━━━━━━━━━━━━━━━\u001b[0m\u001b[37m\u001b[0m \u001b[1m0s\u001b[0m 47ms/step\n",
      "Training model with 3 layers, 128 neurons, learning rate 0.01, 100 epochs, batch size 16\n",
      "\u001b[1m1/1\u001b[0m \u001b[32m━━━━━━━━━━━━━━━━━━━━\u001b[0m\u001b[37m\u001b[0m \u001b[1m0s\u001b[0m 48ms/step\n",
      "Training model with 3 layers, 128 neurons, learning rate 0.001, 40 epochs, batch size 8\n",
      "\u001b[1m1/1\u001b[0m \u001b[32m━━━━━━━━━━━━━━━━━━━━\u001b[0m\u001b[37m\u001b[0m \u001b[1m0s\u001b[0m 47ms/step\n",
      "Training model with 3 layers, 128 neurons, learning rate 0.001, 40 epochs, batch size 16\n",
      "\u001b[1m1/1\u001b[0m \u001b[32m━━━━━━━━━━━━━━━━━━━━\u001b[0m\u001b[37m\u001b[0m \u001b[1m0s\u001b[0m 94ms/step\n",
      "Training model with 3 layers, 128 neurons, learning rate 0.001, 100 epochs, batch size 8\n",
      "\u001b[1m1/1\u001b[0m \u001b[32m━━━━━━━━━━━━━━━━━━━━\u001b[0m\u001b[37m\u001b[0m \u001b[1m0s\u001b[0m 63ms/step\n",
      "Training model with 3 layers, 128 neurons, learning rate 0.001, 100 epochs, batch size 16\n",
      "\u001b[1m1/1\u001b[0m \u001b[32m━━━━━━━━━━━━━━━━━━━━\u001b[0m\u001b[37m\u001b[0m \u001b[1m0s\u001b[0m 48ms/step\n",
      "Training model with 3 layers, 128 neurons, learning rate 0.0001, 40 epochs, batch size 8\n",
      "\u001b[1m1/1\u001b[0m \u001b[32m━━━━━━━━━━━━━━━━━━━━\u001b[0m\u001b[37m\u001b[0m \u001b[1m0s\u001b[0m 47ms/step\n",
      "Training model with 3 layers, 128 neurons, learning rate 0.0001, 40 epochs, batch size 16\n",
      "\u001b[1m1/1\u001b[0m \u001b[32m━━━━━━━━━━━━━━━━━━━━\u001b[0m\u001b[37m\u001b[0m \u001b[1m0s\u001b[0m 63ms/step\n",
      "Training model with 3 layers, 128 neurons, learning rate 0.0001, 100 epochs, batch size 8\n",
      "\u001b[1m1/1\u001b[0m \u001b[32m━━━━━━━━━━━━━━━━━━━━\u001b[0m\u001b[37m\u001b[0m \u001b[1m0s\u001b[0m 47ms/step\n",
      "Training model with 3 layers, 128 neurons, learning rate 0.0001, 100 epochs, batch size 16\n",
      "\u001b[1m1/1\u001b[0m \u001b[32m━━━━━━━━━━━━━━━━━━━━\u001b[0m\u001b[37m\u001b[0m \u001b[1m0s\u001b[0m 79ms/step\n",
      "     num_layers  num_neurons  learning_rate  epochs  batch_size       MAE  \\\n",
      "90            3           64          0.001     100           8  5.429654   \n",
      "63            2          128          0.010     100          16  5.401362   \n",
      "84            3           64          0.010      40           8  5.378701   \n",
      "103           3          128          0.001     100          16  5.672925   \n",
      "26            1          128          0.010     100           8  5.554968   \n",
      "\n",
      "           MSE  R-squared  \n",
      "90   59.730629   0.482535  \n",
      "63   62.850719   0.455505  \n",
      "84   62.860043   0.455424  \n",
      "103  63.658928   0.448503  \n",
      "26   63.749878   0.447715  \n"
     ]
    }
   ],
   "source": [
    "import tensorflow as tf\n",
    "from tensorflow.keras.models import Sequential\n",
    "from tensorflow.keras.layers import Input, Dense\n",
    "from tensorflow.keras.optimizers import Adam\n",
    "\n",
    "# Select features and target variable\n",
    "X = cleaned_df[['gdp', 'population', 'gdp_per_capita', 'olympics_index']].values  # Features\n",
    "y = cleaned_df['total'].values  # Target variable: total number of medals\n",
    "\n",
    "# Convert data to appropriate type for TensorFlow\n",
    "X = X.astype(np.float32)\n",
    "y = y.astype(np.float32)\n",
    "\n",
    "# Split the dataset into training and testing sets (80% training, 20% testing)\n",
    "X_train, X_test, y_train, y_test = train_test_split(X, y, test_size=0.2, random_state=42)\n",
    "\n",
    "# Function to build and compile a neural network model\n",
    "def build_model(input_shape, num_layers=2, num_neurons=32, activation='relu', learning_rate=0.001):\n",
    "    model = Sequential()\n",
    "    model.add(Input(shape=input_shape))\n",
    "    \n",
    "    # Add hidden layers\n",
    "    for _ in range(num_layers):\n",
    "        model.add(Dense(num_neurons, activation=activation))\n",
    "    \n",
    "    # Output layer\n",
    "    model.add(Dense(1))\n",
    "    \n",
    "    # Compile the model\n",
    "    optimizer = Adam(learning_rate=learning_rate)\n",
    "    model.compile(optimizer=optimizer, loss='mean_squared_error')\n",
    "    \n",
    "    return model\n",
    "\n",
    "# Experiment with different architectures and hyperparameters\n",
    "results = []\n",
    "layer_options = [1, 2, 3]\n",
    "neuron_options = [32, 64, 128]\n",
    "learning_rate_options = [0.01, 0.001, 0.0001]\n",
    "epoch_options = [40, 100]\n",
    "batch_size_options = [8, 16]\n",
    "\n",
    "for num_layers in layer_options:\n",
    "    for num_neurons in neuron_options:\n",
    "        for learning_rate in learning_rate_options:\n",
    "            for epochs in epoch_options:\n",
    "                for batch_size in batch_size_options:\n",
    "                    print(f\"Training model with {num_layers} layers, {num_neurons} neurons, learning rate {learning_rate}, {epochs} epochs, batch size {batch_size}\")\n",
    "                    \n",
    "                    # Build the model\n",
    "                    model = build_model(input_shape=(X_train.shape[1],), num_layers=num_layers, num_neurons=num_neurons,\n",
    "                                        learning_rate=learning_rate)\n",
    "                    \n",
    "                    # Train the model\n",
    "                    history = model.fit(X_train, y_train, epochs=epochs, batch_size=batch_size, validation_split=0.2, verbose=0)\n",
    "                    \n",
    "                    # Make predictions\n",
    "                    y_pred_nn = model.predict(X_test).flatten()\n",
    "                    \n",
    "                    # Evaluate the model's performance\n",
    "                    mae_nn = mean_absolute_error(y_test, y_pred_nn)\n",
    "                    mse_nn = mean_squared_error(y_test, y_pred_nn)\n",
    "                    r2_nn = r2_score(y_test, y_pred_nn)\n",
    "                    \n",
    "                    # Save the results\n",
    "                    results.append({\n",
    "                        'num_layers': num_layers,\n",
    "                        'num_neurons': num_neurons,\n",
    "                        'learning_rate': learning_rate,\n",
    "                        'epochs': epochs,\n",
    "                        'batch_size': batch_size,\n",
    "                        'MAE': mae_nn,\n",
    "                        'MSE': mse_nn,\n",
    "                        'R-squared': r2_nn\n",
    "                    })\n",
    "\n",
    "# Convert results to a DataFrame for better visualization\n",
    "results_df = pd.DataFrame(results)\n",
    "print(results_df.sort_values(by='MSE', ascending=True).head())  # Display top 5 configurations with lowest MSE\n",
    "\n"
   ]
  },
  {
   "cell_type": "markdown",
   "metadata": {},
   "source": [
    "# 5. <a id=\"model_evaluation\">Model Evaluation</a> <font size='3'>[[Table of contents🔝]](#index)]<font size>"
   ]
  },
  {
   "cell_type": "markdown",
   "metadata": {},
   "source": [
    "## 5.1 <a id=\"performance_metrics\">Performance Metrics</a> <font size='3'>[[Table of contents🔝]](#index)]<font size>"
   ]
  },
  {
   "cell_type": "markdown",
   "metadata": {},
   "source": [
    "<div align=\"left\">\n",
    "\n",
    "| Model | Mean Absolute Error (MAE) | Mean Squared Error (MSE) | R-squared (R²) |\n",
    "|:------|:--------------------------|:-------------------------|:---------------|\n",
    "| Linear Regression | 5.86 | 81.15 | 0.30 |\n",
    "| Decision Tree | 8.74 | 224.11 | -0.94 |\n",
    "| Random Forest | 7.44 | 130.80 | -0.13 |\n",
    "| Neural Network (Best Configuration) | 5.38 | 62.86 | 0.46 |\n",
    "\n",
    "</div>"
   ]
  },
  {
   "cell_type": "markdown",
   "metadata": {},
   "source": [
    "## 5.2 <a id=\"model_comparison\">Model Comparison</a> <font size='3'>[[Table of contents🔝]](#index)]<font size>"
   ]
  },
  {
   "cell_type": "markdown",
   "metadata": {},
   "source": [
    "#### Linear Regression:\n",
    "- MAE: 5.86\n",
    "- MSE: 81.15\n",
    "- R²: 0.30\n",
    "- **Performance Summary**: Linear Regression still has the lowest MAE and MSE among all models. Its positive R-squared value indicates that it explains some variance in the target variable reasonably well. This model is useful when simplicity and interpretability are crucial.\n",
    "\n",
    "#### Decision Tree:\n",
    "- MAE: 8.74\n",
    "- MSE: 224.11\n",
    "- R²: -0.94\n",
    "- **Performance Summary**: The Decision Tree model continues to show the worst performance, with the highest MAE and MSE and a negative R-squared value, indicating severe overfitting and poor generalization to the test data.\n",
    "\n",
    "#### Random Forest:\n",
    "- MAE: 7.44\n",
    "- MSE: 130.80\n",
    "- R²: -0.13\n",
    "- **Performance Summary**: Random Forest performs better than the Decision Tree but worse than the Linear Regression model. Its negative R-squared value still suggests overfitting or insufficient generalization. It is not the best model but provides some improvement over the Decision Tree.\n",
    "\n",
    "#### Neural Network (Revised Best Configuration):\n",
    "- MAE: 5.38\n",
    "- MSE: 62.86\n",
    "- R²: 0.46\n",
    "- **Performance Summary**: The Neural Network model outperforms all other models, including Linear Regression, with the lowest MAE (5.38) and MSE (62.86). The R-squared value of 0.46 indicates that the model explains 46% of the variance in the target variable, this suggests that the Neural Network is effectively capturing complex, non-linear relationships between the features and the target variable."
   ]
  },
  {
   "cell_type": "markdown",
   "metadata": {},
   "source": [
    "# 6. <a id=\"interpretation_and_insights\">Interpretation and Insights</a> <font size='3'>[[Table of contents🔝]](#index)]<font size>"
   ]
  },
  {
   "cell_type": "markdown",
   "metadata": {},
   "source": [
    "## 6.1 <a id=\"feature_importance\">Feature Importance:</a> <font size='3'>[[Table of contents🔝]](#index)]<font size>\n",
    "    \n",
    "- Since Random Forests provide a straightforward method for calculating feature importances, we can use it to understand which features are most influential."
   ]
  },
  {
   "cell_type": "code",
   "execution_count": 30,
   "metadata": {},
   "outputs": [
    {
     "name": "stdout",
     "output_type": "stream",
     "text": [
      "          Feature  Importance\n",
      "0             gdp    0.798998\n",
      "3  olympics_index    0.094474\n",
      "1      population    0.065810\n",
      "2  gdp_per_capita    0.040718\n"
     ]
    }
   ],
   "source": [
    "# After fitting the RandomForest model:\n",
    "importances = rf_model.feature_importances_\n",
    "feature_names = ['gdp', 'population', 'gdp_per_capita', 'olympics_index']\n",
    "importance_df = pd.DataFrame({'Feature': feature_names, 'Importance': importances})\n",
    "importance_df = importance_df.sort_values(by='Importance', ascending=False)\n",
    "\n",
    "print(importance_df)\n"
   ]
  },
  {
   "cell_type": "markdown",
   "metadata": {},
   "source": [
    "#### Insights from Feature Importances:\n",
    "\n",
    "- **Feature Importance and Interpretation**: Features such as gdp_per_capita, olympics_index are likely influential in predicting Olympic success, with the Neural Network model likely leveraging interactions between these features to provide more accurate predictions.\n",
    "\n",
    "- **Practical Implications**: For countries aiming to improve their Olympic performance, focusing on improving GDP per capita, investing in sports infrastructure, and leveraging historical success can be strategic priorities. The insights from the Neural Network model suggest that a combination of economic and sports-specific factors is critical to Olympic success."
   ]
  },
  {
   "cell_type": "markdown",
   "metadata": {},
   "source": [
    "## 6.2 <a id=\"model_interpretation\">Model Interpretation</a> <font size='3'>[[Table of contents🔝]](#index)]<font size>\n"
   ]
  },
  {
   "cell_type": "markdown",
   "metadata": {},
   "source": [
    "- **Best Performing Model**: The Neural Network is the best-performing model, it has the lowest MSE and the highest R-squared value, indicating it is better at capturing complex patterns in the data and providing more accurate predictions.\n",
    "\n",
    "- **Linear Regression vs. Neural Network**: While the Linear Regression model performs reasonably well, the Neural Network outperforms it by capturing non-linear patterns that Linear Regression cannot. The Neural Network's ability to model complex relationships makes it more suitable for this dataset.\n",
    "\n",
    "- **Decision Trees and Random Forest**: Both tree-based models performed poorly, especially the Decision Tree. Further tuning or different feature engineering might be necessary to improve their performance, but they are unlikely to outperform the Neural Network.\n",
    "\n",
    "- **Further Improvements for Neural Networks**: The Neural Network could potentially be further optimized by experimenting with more sophisticated architectures, such as deeper networks, different activation functions."
   ]
  }
 ],
 "metadata": {
  "kernelspec": {
   "display_name": "Python 3 (ipykernel)",
   "language": "python",
   "name": "python3"
  },
  "language_info": {
   "codemirror_mode": {
    "name": "ipython",
    "version": 3
   },
   "file_extension": ".py",
   "mimetype": "text/x-python",
   "name": "python",
   "nbconvert_exporter": "python",
   "pygments_lexer": "ipython3",
   "version": "3.9.7"
  }
 },
 "nbformat": 4,
 "nbformat_minor": 4
}
